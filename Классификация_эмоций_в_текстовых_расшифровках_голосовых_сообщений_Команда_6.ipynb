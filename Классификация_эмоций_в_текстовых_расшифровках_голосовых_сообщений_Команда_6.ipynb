{
  "cells": [
    {
      "cell_type": "markdown",
      "metadata": {
        "id": "view-in-github",
        "colab_type": "text"
      },
      "source": [
        "<a href=\"https://colab.research.google.com/github/Lemongras89/Team_6/blob/main/%D0%9A%D0%BB%D0%B0%D1%81%D1%81%D0%B8%D1%84%D0%B8%D0%BA%D0%B0%D1%86%D0%B8%D1%8F_%D1%8D%D0%BC%D0%BE%D1%86%D0%B8%D0%B9_%D0%B2_%D1%82%D0%B5%D0%BA%D1%81%D1%82%D0%BE%D0%B2%D1%8B%D1%85_%D1%80%D0%B0%D1%81%D1%88%D0%B8%D1%84%D1%80%D0%BE%D0%B2%D0%BA%D0%B0%D1%85_%D0%B3%D0%BE%D0%BB%D0%BE%D1%81%D0%BE%D0%B2%D1%8B%D1%85_%D1%81%D0%BE%D0%BE%D0%B1%D1%89%D0%B5%D0%BD%D0%B8%D0%B9_%D0%9A%D0%BE%D0%BC%D0%B0%D0%BD%D0%B4%D0%B0_6.ipynb\" target=\"_parent\"><img src=\"https://colab.research.google.com/assets/colab-badge.svg\" alt=\"Open In Colab\"/></a>"
      ]
    },
    {
      "cell_type": "markdown",
      "source": [
        "В данном коде мы хотим создать максимально точную модель для классификаций эмоций на основе имеющегося датасета. Весь процесс можно поделить на следующие основные этапы:\n",
        "\n",
        "1. Анализ задачи и данных\n",
        "2. Предобработка данных\n",
        "3. Разработка модели\n",
        "4. Обучение и тестирование"
      ],
      "metadata": {
        "id": "aP2VUo8tImVh"
      }
    },
    {
      "cell_type": "markdown",
      "source": [
        "**Анализ задачи и данных**\n",
        "\n",
        "Определяем цели: Классифицировать текст на определенные эмоции.\n",
        "\n",
        "Изучение данные: Проверка, сколько классов эмоций есть, сбалансирован ли датасет, и есть ли шум в данных.\n",
        "\n",
        "Определение метрик: Для многоклассовой классификации подойдут точность, полнота, специфичность, а также средние значения по этим метрикам (macro- и weighted-метрики)."
      ],
      "metadata": {
        "id": "mMbnJdE3JNmU"
      }
    },
    {
      "cell_type": "code",
      "execution_count": null,
      "metadata": {
        "colab": {
          "base_uri": "https://localhost:8080/"
        },
        "id": "WqzF9E2b91gU",
        "outputId": "ced4022f-0532-4b71-c99a-9465a8f7e75f"
      },
      "outputs": [
        {
          "output_type": "stream",
          "name": "stdout",
          "text": [
            "                                         Текст фразы        Эмоция\n",
            "0  Я не могу поверить, что ты снова опоздал на ва...  Недовольство\n",
            "1  Врач, к которому меня направили, оказался груб...  Недовольство\n",
            "2  Как же меня раздражает твоя привычка постоянно...  Недовольство\n",
            "3  Мне кажется, что некоторые врачи просто зараба...  Недовольство\n",
            "4  Мне надоело слушать твои бесконечные жалобы и ...  Недовольство\n"
          ]
        }
      ],
      "source": [
        "import pandas as pd\n",
        "\n",
        "# Путь к файлу\n",
        "file_path = '/content/sample_data/Фразы-эмоции (1).xlsx'\n",
        "\n",
        "# Загрузка данных\n",
        "data = pd.read_excel(file_path)\n",
        "\n",
        "# Просмотр первых строк таблицы для проверки того что всё работает\n",
        "print(data.head())"
      ]
    },
    {
      "cell_type": "code",
      "execution_count": null,
      "metadata": {
        "colab": {
          "base_uri": "https://localhost:8080/"
        },
        "id": "vOd9PqMs_C3j",
        "outputId": "c20fb5a4-e680-4263-8d13-ef3c9ea0513c"
      },
      "outputs": [
        {
          "output_type": "stream",
          "name": "stdout",
          "text": [
            "<class 'pandas.core.frame.DataFrame'>\n",
            "RangeIndex: 1043 entries, 0 to 1042\n",
            "Data columns (total 2 columns):\n",
            " #   Column       Non-Null Count  Dtype \n",
            "---  ------       --------------  ----- \n",
            " 0   Текст фразы  1043 non-null   object\n",
            " 1   Эмоция       1043 non-null   object\n",
            "dtypes: object(2)\n",
            "memory usage: 16.4+ KB\n",
            "None\n",
            "Уникальные значения в 'Текст фразы': ['Я не могу поверить, что ты снова опоздал на важную встречу, это просто неприемлемо и непростительно, я больше не намерен терпеть твои постоянные задержки и безответственное отношение к работе!'\n",
            " 'Врач, к которому меня направили, оказался грубым и невнимательным человеком, который разговаривал со мной свысока, перебивал меня и не слушал мои жалобы. Он не объяснил мне, что со мной происходит, не рассказал о возможных методах лечения и даже не попытался успокоить меня.'\n",
            " 'Как же меня раздражает твоя привычка постоянно перебивать других людей во время разговора, неужели так сложно дать возможность высказаться до конца?'\n",
            " ... 'Я уточню эту информацию и вернусь к вам.'\n",
            " 'Извините, я вас плохо слышу.' 'Это номер телефона моего менеджера.']\n",
            "Уникальные значения в 'Эмоция': ['Недовольство' 'Злость' 'Зависть' 'Сочувствие' 'Радость' 'Печаль'\n",
            " 'Интерес' 'Нейтрально']\n"
          ]
        }
      ],
      "source": [
        "# Вывод информации о данных\n",
        "print(data.info())\n",
        "\n",
        "# Просмотр уникальных значений в столбцах\n",
        "for column in data.columns:\n",
        "    print(f\"Уникальные значения в '{column}': {data[column].unique()}\")"
      ]
    },
    {
      "cell_type": "markdown",
      "source": [
        "Проверим, кол-во фраз по каждой эмоций."
      ],
      "metadata": {
        "id": "k46zeX1FFvLD"
      }
    },
    {
      "cell_type": "code",
      "source": [
        "# Количество фраз по каждой эмоции\n",
        "emotion_counts = data['Эмоция'].value_counts()\n",
        "\n",
        "print(emotion_counts)"
      ],
      "metadata": {
        "colab": {
          "base_uri": "https://localhost:8080/"
        },
        "id": "7LrMCPnrE-Oj",
        "outputId": "f84b2444-fb3d-44a0-dae9-2e32f51344d5"
      },
      "execution_count": null,
      "outputs": [
        {
          "output_type": "stream",
          "name": "stdout",
          "text": [
            "Эмоция\n",
            "Нейтрально      204\n",
            "Радость         163\n",
            "Сочувствие      145\n",
            "Злость          141\n",
            "Печаль          133\n",
            "Зависть         125\n",
            "Интерес         117\n",
            "Недовольство     15\n",
            "Name: count, dtype: int64\n"
          ]
        }
      ]
    },
    {
      "cell_type": "markdown",
      "source": [
        "Попробуем визуализировать баланс классов."
      ],
      "metadata": {
        "id": "qrelqa2UQrrO"
      }
    },
    {
      "cell_type": "code",
      "source": [
        "import matplotlib.pyplot as plt\n",
        "import seaborn as sns\n",
        "\n",
        "# Визуализация распределения\n",
        "plt.figure(figsize=(10, 6))\n",
        "sns.barplot(x=emotion_counts.values, y=emotion_counts.index, palette='viridis')\n",
        "plt.title('Распределение эмоций')\n",
        "plt.xlabel('Количество примеров')\n",
        "plt.ylabel('Эмоции')\n",
        "plt.show()\n"
      ],
      "metadata": {
        "colab": {
          "base_uri": "https://localhost:8080/",
          "height": 651
        },
        "id": "EQZ4YdK3QrXu",
        "outputId": "85c54e03-c8a2-4645-c0d7-df2886641264"
      },
      "execution_count": null,
      "outputs": [
        {
          "output_type": "stream",
          "name": "stderr",
          "text": [
            "<ipython-input-7-e52a0deb76c9>:6: FutureWarning: \n",
            "\n",
            "Passing `palette` without assigning `hue` is deprecated and will be removed in v0.14.0. Assign the `y` variable to `hue` and set `legend=False` for the same effect.\n",
            "\n",
            "  sns.barplot(x=emotion_counts.values, y=emotion_counts.index, palette='viridis')\n"
          ]
        },
        {
          "output_type": "display_data",
          "data": {
            "text/plain": [
              "<Figure size 1000x600 with 1 Axes>"
            ],
            "image/png": "[encoded data removed]"
          },
          "metadata": {}
        }
      ]
    },
    {
      "cell_type": "markdown",
      "source": [
        "Как мы видим эмоций по типу \"Недовольство\", всего 15 штук. Этого может быть недостаточно для хорошего обучения. Разумнее всего объеденить её со \"Злостью\". В остальном результаты идут по нисходящей начиная от эмойицй \"Нейтрально\", снебольшим разрывом между собой."
      ],
      "metadata": {
        "id": "9jHJB-gUF3Lo"
      }
    },
    {
      "cell_type": "code",
      "source": [
        "# Заменяем 'Недовольство' на 'Злость'\n",
        "data['Эмоция'] = data['Эмоция'].replace('Недовольство', 'Злость')\n",
        "\n",
        "#снова проверяем кол-во фраз.\n",
        "emotion_counts = data['Эмоция'].value_counts()\n",
        "\n",
        "print(emotion_counts)"
      ],
      "metadata": {
        "colab": {
          "base_uri": "https://localhost:8080/"
        },
        "id": "molDT1HFGmeX",
        "outputId": "2a9e7810-eb70-45dc-ea7a-23fb53138551"
      },
      "execution_count": null,
      "outputs": [
        {
          "output_type": "stream",
          "name": "stdout",
          "text": [
            "Эмоция\n",
            "Нейтрально    204\n",
            "Радость       163\n",
            "Злость        156\n",
            "Сочувствие    145\n",
            "Печаль        133\n",
            "Зависть       125\n",
            "Интерес       117\n",
            "Name: count, dtype: int64\n"
          ]
        }
      ]
    },
    {
      "cell_type": "markdown",
      "source": [
        "Видно, что \"злости\" стало больше :)"
      ],
      "metadata": {
        "id": "Wh3_Sb8wG19h"
      }
    },
    {
      "cell_type": "markdown",
      "source": [
        "Отлично, теперь давайте продолжим исследование датсета еперд начал обучения. Например вычислим и визуализируем распределение длины текста для каждого объекта."
      ],
      "metadata": {
        "id": "O0vi0t_QSBT_"
      }
    },
    {
      "cell_type": "code",
      "source": [
        "# Вычисление длины текста для каждого объекта\n",
        "data['Длина текста'] = data['Текст фразы'].apply(len)\n",
        "\n",
        "# Визуализация распределения длин текста\n",
        "plt.figure(figsize=(10, 6))\n",
        "sns.histplot(data['Длина текста'], bins=30, kde=True, color='skyblue')\n",
        "plt.title('Распределение длин объектов (тексты)')\n",
        "plt.xlabel('Длина текста')\n",
        "plt.ylabel('Частота')\n",
        "plt.show()"
      ],
      "metadata": {
        "colab": {
          "base_uri": "https://localhost:8080/",
          "height": 564
        },
        "id": "Uzl1DGNFSCGe",
        "outputId": "525b7dd6-7a5a-4dea-f0a2-da72adbdc56c"
      },
      "execution_count": null,
      "outputs": [
        {
          "output_type": "display_data",
          "data": {
            "text/plain": [
              "<Figure size 1000x600 with 1 Axes>"
            ],
            "image/png": "[encoded data removed]"
          },
          "metadata": {}
        }
      ]
    },
    {
      "cell_type": "markdown",
      "source": [
        "**Предобработка данных:**\n",
        "\n",
        "Удаляем лишние символы, строки с пропущенными значениями и проводим текст к нижнему регистру."
      ],
      "metadata": {
        "id": "VfsYxSzBKFoC"
      }
    },
    {
      "cell_type": "code",
      "execution_count": null,
      "metadata": {
        "colab": {
          "base_uri": "https://localhost:8080/"
        },
        "id": "GkQyf-uZ_RQL",
        "outputId": "79b410e4-43bf-427c-ac1e-4fe43c624836"
      },
      "outputs": [
        {
          "output_type": "stream",
          "name": "stdout",
          "text": [
            "                                         Текст фразы  Эмоция  Длина текста\n",
            "0  я не могу поверить что ты снова опоздал на важ...  Злость           192\n",
            "1  врач к которому меня направили оказался грубым...  Злость           274\n",
            "2  как же меня раздражает твоя привычка постоянно...  Злость           148\n",
            "3  мне кажется что некоторые врачи просто зарабат...  Злость           205\n",
            "4  мне надоело слушать твои бесконечные жалобы и ...  Злость           123\n"
          ]
        }
      ],
      "source": [
        "# Удаление строк с пропущенными значениями\n",
        "data = data.dropna()\n",
        "\n",
        "# Очистка текста\n",
        "import re\n",
        "\n",
        "# Создаем функцию для этого\n",
        "def clean_text(text):\n",
        "    text = re.sub(r'[^\\w\\s]', '', text)  # Удаление пунктуации\n",
        "    text = text.lower()  # Приведение к нижнему регистру\n",
        "    return text\n",
        "\n",
        "data['Текст фразы'] = data['Текст фразы'].apply(clean_text)\n",
        "\n",
        "# Проверка результата\n",
        "print(data.head())"
      ]
    },
    {
      "cell_type": "markdown",
      "source": [
        "Посмотрим на кол-во уникальных слов и на ТОП самых часто\n",
        "встречающихся слов и\n",
        "словосочетаний"
      ],
      "metadata": {
        "id": "N9X0-9njTNfw"
      }
    },
    {
      "cell_type": "code",
      "source": [
        "# Очистка текста и объединение всех фраз в один список слов\n",
        "all_words = ' '.join(data['Текст фразы'].apply(clean_text)).split()\n",
        "\n",
        "# Подсчет уникальных слов\n",
        "unique_words = set(all_words)\n",
        "print(f\"Количество уникальных слов: {len(unique_words)}\")"
      ],
      "metadata": {
        "colab": {
          "base_uri": "https://localhost:8080/"
        },
        "id": "WHBhiTmVTN_g",
        "outputId": "cb96e7c2-0264-4def-cf14-dca34df6a0c3"
      },
      "execution_count": null,
      "outputs": [
        {
          "output_type": "stream",
          "name": "stdout",
          "text": [
            "Количество уникальных слов: 3555\n"
          ]
        }
      ]
    },
    {
      "cell_type": "code",
      "source": [
        "from collections import Counter  # Импортируем Counter для подсчета частот\n",
        "from nltk import ngrams\n",
        "\n",
        "# Создание биграмм\n",
        "bigrams = list(ngrams(all_words, 2))\n",
        "\n",
        "# Подсчет частоты биграмм\n",
        "bigram_counts = Counter(bigrams)\n",
        "\n",
        "# Топ-10 биграмм\n",
        "top_bigrams = bigram_counts.most_common(10)\n",
        "print(\"\\nТоп-10 самых часто встречающихся словосочетаний (биграмм):\")\n",
        "for bigram, count in top_bigrams:\n",
        "    print(f\"{' '.join(bigram)}: {count}\")"
      ],
      "metadata": {
        "colab": {
          "base_uri": "https://localhost:8080/"
        },
        "id": "20_TOoHjUdhy",
        "outputId": "099c679d-1805-438d-ed37-b3b7431ab6e1"
      },
      "execution_count": null,
      "outputs": [
        {
          "output_type": "stream",
          "name": "stdout",
          "text": [
            "\n",
            "Топ-10 самых часто встречающихся словосочетаний (биграмм):\n",
            "у меня: 68\n",
            "не могу: 62\n",
            "я не: 61\n",
            "что ты: 56\n",
            "я так: 38\n",
            "как же: 35\n",
            "у тебя: 33\n",
            "жаль что: 33\n",
            "я просто: 30\n",
            "ты не: 29\n"
          ]
        }
      ]
    },
    {
      "cell_type": "code",
      "source": [
        "# Преобразование биграмм в текстовый формат для визуализации\n",
        "top_bigrams_df = pd.DataFrame(top_bigrams, columns=['Биграмма', 'Частота'])\n",
        "top_bigrams_df['Биграмма'] = top_bigrams_df['Биграмма'].apply(lambda x: ' '.join(x))\n",
        "\n",
        "# Построение графика\n",
        "plt.figure(figsize=(10, 6))\n",
        "sns.barplot(x='Частота', y='Биграмма', data=top_bigrams_df, palette='coolwarm')\n",
        "plt.title('Топ-10 самых часто встречающихся биграмм')\n",
        "plt.xlabel('Частота')\n",
        "plt.ylabel('Биграмма')\n",
        "plt.show()"
      ],
      "metadata": {
        "colab": {
          "base_uri": "https://localhost:8080/",
          "height": 651
        },
        "id": "aDHFy8kBTvH7",
        "outputId": "d7a93352-9da6-483f-f0ca-5b9ce7c4fb77"
      },
      "execution_count": null,
      "outputs": [
        {
          "output_type": "stream",
          "name": "stderr",
          "text": [
            "<ipython-input-19-2c1ea6983b26>:7: FutureWarning: \n",
            "\n",
            "Passing `palette` without assigning `hue` is deprecated and will be removed in v0.14.0. Assign the `y` variable to `hue` and set `legend=False` for the same effect.\n",
            "\n",
            "  sns.barplot(x='Частота', y='Биграмма', data=top_bigrams_df, palette='coolwarm')\n"
          ]
        },
        {
          "output_type": "display_data",
          "data": {
            "text/plain": [
              "<Figure size 1000x600 with 1 Axes>"
            ],
            "image/png": "[encoded data removed]"
          },
          "metadata": {}
        }
      ]
    },
    {
      "cell_type": "markdown",
      "source": [
        "Теперь, ради любопытства посмотрим на ТОПы,\n",
        "распределения и\n",
        "количества в\n",
        "разрезе классов"
      ],
      "metadata": {
        "id": "aKR2-uJ8VXwm"
      }
    },
    {
      "cell_type": "code",
      "source": [
        "# Функция для подсчета топ слов по каждому классу\n",
        "def get_top_words_by_class(data, top_n=10):\n",
        "    class_top_words = {}\n",
        "    for emotion in data['Эмоция'].unique():\n",
        "        # Очистка текста для текущего класса\n",
        "        texts = data[data['Эмоция'] == emotion]['Текст фразы'].apply(clean_text)\n",
        "        all_words = ' '.join(texts).split()\n",
        "\n",
        "        # Подсчет частоты слов\n",
        "        word_counts = Counter(all_words)\n",
        "        class_top_words[emotion] = word_counts.most_common(top_n)\n",
        "    return class_top_words\n",
        "\n",
        "# Получение ТОП-слов для каждого класса\n",
        "top_words_by_class = get_top_words_by_class(data)\n",
        "\n",
        "# Визуализация ТОП-слов для каждого класса\n",
        "for emotion, words in top_words_by_class.items():\n",
        "    # Преобразуем данные для графика\n",
        "    words_df = pd.DataFrame(words, columns=['Слово', 'Частота'])\n",
        "\n",
        "    # Построение графика\n",
        "    plt.figure(figsize=(10, 6))\n",
        "    sns.barplot(x='Частота', y='Слово', data=words_df, palette='coolwarm')\n",
        "    plt.title(f\"ТОП-{len(words)} слов для класса '{emotion}'\")\n",
        "    plt.xlabel('Частота')\n",
        "    plt.ylabel('Слово')\n",
        "    plt.show()"
      ],
      "metadata": {
        "colab": {
          "base_uri": "https://localhost:8080/",
          "height": 1000
        },
        "id": "wiYCBBJDVKbG",
        "outputId": "5e40d53c-1d01-4f56-a745-1f0140f2690c"
      },
      "execution_count": null,
      "outputs": [
        {
          "output_type": "stream",
          "name": "stderr",
          "text": [
            "<ipython-input-21-ad1cdcc4d5e8>:24: FutureWarning: \n",
            "\n",
            "Passing `palette` without assigning `hue` is deprecated and will be removed in v0.14.0. Assign the `y` variable to `hue` and set `legend=False` for the same effect.\n",
            "\n",
            "  sns.barplot(x='Частота', y='Слово', data=words_df, palette='coolwarm')\n"
          ]
        },
        {
          "output_type": "display_data",
          "data": {
            "text/plain": [
              "<Figure size 1000x600 with 1 Axes>"
            ],
            "image/png": "[encoded data removed]"
          },
          "metadata": {}
        },
        {
          "output_type": "stream",
          "name": "stderr",
          "text": [
            "<ipython-input-21-ad1cdcc4d5e8>:24: FutureWarning: \n",
            "\n",
            "Passing `palette` without assigning `hue` is deprecated and will be removed in v0.14.0. Assign the `y` variable to `hue` and set `legend=False` for the same effect.\n",
            "\n",
            "  sns.barplot(x='Частота', y='Слово', data=words_df, palette='coolwarm')\n"
          ]
        },
        {
          "output_type": "display_data",
          "data": {
            "text/plain": [
              "<Figure size 1000x600 with 1 Axes>"
            ],
            "image/png": "[encoded data removed]"
          },
          "metadata": {}
        },
        {
          "output_type": "stream",
          "name": "stderr",
          "text": [
            "<ipython-input-21-ad1cdcc4d5e8>:24: FutureWarning: \n",
            "\n",
            "Passing `palette` without assigning `hue` is deprecated and will be removed in v0.14.0. Assign the `y` variable to `hue` and set `legend=False` for the same effect.\n",
            "\n",
            "  sns.barplot(x='Частота', y='Слово', data=words_df, palette='coolwarm')\n"
          ]
        },
        {
          "output_type": "display_data",
          "data": {
            "text/plain": [
              "<Figure size 1000x600 with 1 Axes>"
            ],
            "image/png": "[encoded data removed]"
          },
          "metadata": {}
        },
        {
          "output_type": "stream",
          "name": "stderr",
          "text": [
            "<ipython-input-21-ad1cdcc4d5e8>:24: FutureWarning: \n",
            "\n",
            "Passing `palette` without assigning `hue` is deprecated and will be removed in v0.14.0. Assign the `y` variable to `hue` and set `legend=False` for the same effect.\n",
            "\n",
            "  sns.barplot(x='Частота', y='Слово', data=words_df, palette='coolwarm')\n"
          ]
        },
        {
          "output_type": "display_data",
          "data": {
            "text/plain": [
              "<Figure size 1000x600 with 1 Axes>"
            ],
            "image/png": "[encoded data removed]"
          },
          "metadata": {}
        },
        {
          "output_type": "stream",
          "name": "stderr",
          "text": [
            "<ipython-input-21-ad1cdcc4d5e8>:24: FutureWarning: \n",
            "\n",
            "Passing `palette` without assigning `hue` is deprecated and will be removed in v0.14.0. Assign the `y` variable to `hue` and set `legend=False` for the same effect.\n",
            "\n",
            "  sns.barplot(x='Частота', y='Слово', data=words_df, palette='coolwarm')\n"
          ]
        },
        {
          "output_type": "display_data",
          "data": {
            "text/plain": [
              "<Figure size 1000x600 with 1 Axes>"
            ],
            "image/png": "[encoded data removed]"
          },
          "metadata": {}
        },
        {
          "output_type": "stream",
          "name": "stderr",
          "text": [
            "<ipython-input-21-ad1cdcc4d5e8>:24: FutureWarning: \n",
            "\n",
            "Passing `palette` without assigning `hue` is deprecated and will be removed in v0.14.0. Assign the `y` variable to `hue` and set `legend=False` for the same effect.\n",
            "\n",
            "  sns.barplot(x='Частота', y='Слово', data=words_df, palette='coolwarm')\n"
          ]
        },
        {
          "output_type": "display_data",
          "data": {
            "text/plain": [
              "<Figure size 1000x600 with 1 Axes>"
            ],
            "image/png": "[encoded data removed]"
          },
          "metadata": {}
        },
        {
          "output_type": "stream",
          "name": "stderr",
          "text": [
            "<ipython-input-21-ad1cdcc4d5e8>:24: FutureWarning: \n",
            "\n",
            "Passing `palette` without assigning `hue` is deprecated and will be removed in v0.14.0. Assign the `y` variable to `hue` and set `legend=False` for the same effect.\n",
            "\n",
            "  sns.barplot(x='Частота', y='Слово', data=words_df, palette='coolwarm')\n"
          ]
        },
        {
          "output_type": "display_data",
          "data": {
            "text/plain": [
              "<Figure size 1000x600 with 1 Axes>"
            ],
            "image/png": "[encoded data removed]"
          },
          "metadata": {}
        }
      ]
    },
    {
      "cell_type": "markdown",
      "source": [
        "Теперь, наконец приступаем к обучению. Для начала делим выборку на тренировочную и тестовую."
      ],
      "metadata": {
        "id": "WclkvOs6Kp7A"
      }
    },
    {
      "cell_type": "code",
      "execution_count": null,
      "metadata": {
        "colab": {
          "base_uri": "https://localhost:8080/"
        },
        "id": "2N9TOiD4_hgV",
        "outputId": "5f5fa09c-5c52-452e-e214-3c803e72af25"
      },
      "outputs": [
        {
          "output_type": "stream",
          "name": "stdout",
          "text": [
            "Размер обучающей выборки: 834\n",
            "Размер тестовой выборки: 209\n"
          ]
        }
      ],
      "source": [
        "from sklearn.model_selection import train_test_split\n",
        "\n",
        "# Выделение признаков (X) и меток (y)\n",
        "X = data['Текст фразы']\n",
        "y = data['Эмоция']\n",
        "\n",
        "# Разделение данных\n",
        "X_train, X_test, y_train, y_test = train_test_split(X, y, test_size=0.2, random_state=42)\n",
        "\n",
        "print(f\"Размер обучающей выборки: {len(X_train)}\")\n",
        "print(f\"Размер тестовой выборки: {len(X_test)}\")"
      ]
    },
    {
      "cell_type": "markdown",
      "source": [
        "Создаем пайплайн по методу - TF-IDF + Логистическая регрессия"
      ],
      "metadata": {
        "id": "fhtCT4YWK4jR"
      }
    },
    {
      "cell_type": "code",
      "execution_count": null,
      "metadata": {
        "colab": {
          "base_uri": "https://localhost:8080/"
        },
        "id": "nW7KGr5D_wCR",
        "outputId": "3357171c-c405-4a57-f95a-996d32d081b1"
      },
      "outputs": [
        {
          "output_type": "stream",
          "name": "stdout",
          "text": [
            "Accuracy: 0.7751196172248804\n",
            "\n",
            "Classification Report:\n",
            "               precision    recall  f1-score   support\n",
            "\n",
            "     Зависть       0.86      0.86      0.86        22\n",
            "      Злость       0.80      0.73      0.76        33\n",
            "     Интерес       0.79      0.65      0.71        23\n",
            "  Нейтрально       0.74      0.89      0.80        44\n",
            "      Печаль       0.71      0.65      0.68        26\n",
            "     Радость       0.72      0.72      0.72        29\n",
            "  Сочувствие       0.84      0.84      0.84        32\n",
            "\n",
            "    accuracy                           0.78       209\n",
            "   macro avg       0.78      0.76      0.77       209\n",
            "weighted avg       0.78      0.78      0.77       209\n",
            "\n"
          ]
        }
      ],
      "source": [
        "from sklearn.feature_extraction.text import TfidfVectorizer\n",
        "from sklearn.linear_model import LogisticRegression\n",
        "from sklearn.pipeline import Pipeline\n",
        "from sklearn.metrics import classification_report, accuracy_score\n",
        "\n",
        "# Создание пайплайна: TF-IDF + Логистическая регрессия\n",
        "model_pipeline = Pipeline([\n",
        "    ('tfidf', TfidfVectorizer(max_features=5000)),  # Ограничим количество признаков для упрощения\n",
        "    ('classifier', LogisticRegression(max_iter=1000, random_state=42))\n",
        "])\n",
        "\n",
        "# Обучение модели\n",
        "model_pipeline.fit(X_train, y_train)\n",
        "\n",
        "# Предсказания на тестовой выборке\n",
        "y_pred = model_pipeline.predict(X_test)\n",
        "\n",
        "# Оценка качества модели\n",
        "print(\"Accuracy:\", accuracy_score(y_test, y_pred))\n",
        "print(\"\\nClassification Report:\\n\", classification_report(y_test, y_pred))\n"
      ]
    },
    {
      "cell_type": "markdown",
      "source": [
        "В целом неплохой результат - Accuracy: 0.7703349282296651.\n",
        "\n",
        "Но можно попробовать сделать лучше. Добавим балансировку классов."
      ],
      "metadata": {
        "id": "PUuSgSYyLEpN"
      }
    },
    {
      "cell_type": "code",
      "source": [
        "from sklearn.feature_extraction.text import TfidfVectorizer\n",
        "from sklearn.linear_model import LogisticRegression\n",
        "from sklearn.pipeline import Pipeline\n",
        "from sklearn.metrics import classification_report, accuracy_score\n",
        "\n",
        "# Создание пайплайна: TF-IDF + Логистическая регрессия с балансировкой классов\n",
        "model_pipeline = Pipeline([\n",
        "    ('tfidf', TfidfVectorizer(max_features=5000)),  # Ограничим количество признаков для упрощения\n",
        "    ('classifier', LogisticRegression(max_iter=1000, random_state=42, class_weight='balanced'))  # Балансировка классов\n",
        "])\n",
        "\n",
        "# Обучение модели\n",
        "model_pipeline.fit(X_train, y_train)\n",
        "\n",
        "# Предсказания на тестовой выборке\n",
        "y_pred = model_pipeline.predict(X_test)\n",
        "\n",
        "# Оценка качества модели\n",
        "print(\"Accuracy:\", accuracy_score(y_test, y_pred))\n",
        "print(\"\\nClassification Report:\\n\", classification_report(y_test, y_pred))\n"
      ],
      "metadata": {
        "colab": {
          "base_uri": "https://localhost:8080/"
        },
        "id": "q5wiOWk8137Q",
        "outputId": "84e7fa04-d268-45e7-faf2-45b40fb0f68f"
      },
      "execution_count": null,
      "outputs": [
        {
          "output_type": "stream",
          "name": "stdout",
          "text": [
            "Accuracy: 0.7894736842105263\n",
            "\n",
            "Classification Report:\n",
            "               precision    recall  f1-score   support\n",
            "\n",
            "     Зависть       0.79      1.00      0.88        22\n",
            "      Злость       0.79      0.70      0.74        33\n",
            "     Интерес       0.71      0.87      0.78        23\n",
            "  Нейтрально       0.91      0.73      0.81        44\n",
            "      Печаль       0.66      0.81      0.72        26\n",
            "     Радость       0.83      0.66      0.73        29\n",
            "  Сочувствие       0.82      0.88      0.85        32\n",
            "\n",
            "    accuracy                           0.79       209\n",
            "   macro avg       0.79      0.80      0.79       209\n",
            "weighted avg       0.80      0.79      0.79       209\n",
            "\n"
          ]
        }
      ]
    },
    {
      "cell_type": "markdown",
      "source": [
        "Результат стал лучше - Accuracy: 0.7894736842105263.\n",
        "\n",
        "Также например по \"Зависти\" recall равен 1.00, что является прекрасным результатом.\n",
        "\n",
        "Теперь протестируем модель на рандомных текстам, с которыми она не работала."
      ],
      "metadata": {
        "id": "SVLX5h5ILU6F"
      }
    },
    {
      "cell_type": "code",
      "source": [
        "from sklearn.feature_extraction.text import TfidfVectorizer\n",
        "from sklearn.linear_model import LogisticRegression\n",
        "from sklearn.pipeline import Pipeline\n",
        "from sklearn.metrics import classification_report, accuracy_score\n",
        "\n",
        "# Создание пайплайна: TF-IDF + Логистическая регрессия с балансировкой классов\n",
        "model_pipeline = Pipeline([\n",
        "    ('tfidf', TfidfVectorizer(max_features=5000)),  # Ограничим количество признаков для упрощения\n",
        "    ('classifier', LogisticRegression(max_iter=1000, random_state=42, class_weight='balanced'))  # Балансировка классов\n",
        "])\n",
        "\n",
        "# Обучение модели\n",
        "model_pipeline.fit(X_train, y_train)\n",
        "\n",
        "# Предсказания на тестовой выборке\n",
        "y_pred = model_pipeline.predict(X_test)\n",
        "\n",
        "# Оценка качества модели\n",
        "print(\"Test Accuracy:\", accuracy_score(y_test, y_pred))\n",
        "print(\"\\nClassification Report:\\n\", classification_report(y_test, y_pred))\n",
        "\n",
        "# Получение тренировочной точности\n",
        "y_train_pred = model_pipeline.predict(X_train)\n",
        "print(\"\\nTraining Accuracy:\", accuracy_score(y_train, y_train_pred))\n",
        "\n",
        "# Примеры реальных текстов для классификации\n",
        "real_texts = [\n",
        "    \"Как она всегда всё получает, а я сижу и смотрю на её успехи. Не понимаю, почему у неё так всё легко получается, а мне приходится бороться за каждую мелочь.\",  # Зависть\n",
        "    \"Это просто возмутительно! Почему мне всегда приходится мириться с тем, что меня игнорируют и не ценят? Сколько можно терпеть?\",  # Злость\n",
        "    \"Я только что прочитал об этом новом научном открытии, и это звучит невероятно! Хочу узнать больше о том, как эта технология может изменить будущее.\",  # Интерес\n",
        "    \"Сегодня был обычный день на работе. Ничего особенного не случилось. Я просто выполнял свою рутину и вернулся домой.\",  # Нейтрально\n",
        "    \"Всё стало настолько тусклым и унылым, что я даже не могу вспомнить, когда в последний раз чувствовал себя счастливым.\",  # Печаль\n",
        "    \"Я только что выиграл конкурс, и не могу поверить в это! Это потрясающее чувство — ощущать себя победителем. Я так рад!\",  # Радость\n",
        "    \"Мне так больно за тебя, я понимаю, как тяжело тебе сейчас. Если тебе нужно поговорить или что-то, я всегда рядом. Ты не один в этом.\"  # Сочувствие\n",
        "]\n",
        "\n",
        "# Получение предсказания для реальных текстов\n",
        "real_preds = model_pipeline.predict(real_texts)\n",
        "\n",
        "# Печать результата\n",
        "for text, pred in zip(real_texts, real_preds):\n",
        "    print(f\"Text: {text}\")\n",
        "    print(f\"Predicted Sentiment: {pred}\\n\")\n"
      ],
      "metadata": {
        "colab": {
          "base_uri": "https://localhost:8080/"
        },
        "id": "TdEico289Hgg",
        "outputId": "faabc0bd-1b0f-40b7-f9db-099ef5168c6a"
      },
      "execution_count": null,
      "outputs": [
        {
          "output_type": "stream",
          "name": "stdout",
          "text": [
            "Test Accuracy: 0.7894736842105263\n",
            "\n",
            "Classification Report:\n",
            "               precision    recall  f1-score   support\n",
            "\n",
            "     Зависть       0.79      1.00      0.88        22\n",
            "      Злость       0.79      0.70      0.74        33\n",
            "     Интерес       0.71      0.87      0.78        23\n",
            "  Нейтрально       0.91      0.73      0.81        44\n",
            "      Печаль       0.66      0.81      0.72        26\n",
            "     Радость       0.83      0.66      0.73        29\n",
            "  Сочувствие       0.82      0.88      0.85        32\n",
            "\n",
            "    accuracy                           0.79       209\n",
            "   macro avg       0.79      0.80      0.79       209\n",
            "weighted avg       0.80      0.79      0.79       209\n",
            "\n",
            "\n",
            "Training Accuracy: 0.9892086330935251\n",
            "Text: Как она всегда всё получает, а я сижу и смотрю на её успехи. Не понимаю, почему у неё так всё легко получается, а мне приходится бороться за каждую мелочь.\n",
            "Predicted Sentiment: Зависть\n",
            "\n",
            "Text: Это просто возмутительно! Почему мне всегда приходится мириться с тем, что меня игнорируют и не ценят? Сколько можно терпеть?\n",
            "Predicted Sentiment: Злость\n",
            "\n",
            "Text: Я только что прочитал об этом новом научном открытии, и это звучит невероятно! Хочу узнать больше о том, как эта технология может изменить будущее.\n",
            "Predicted Sentiment: Интерес\n",
            "\n",
            "Text: Сегодня был обычный день на работе. Ничего особенного не случилось. Я просто выполнял свою рутину и вернулся домой.\n",
            "Predicted Sentiment: Нейтрально\n",
            "\n",
            "Text: Всё стало настолько тусклым и унылым, что я даже не могу вспомнить, когда в последний раз чувствовал себя счастливым.\n",
            "Predicted Sentiment: Печаль\n",
            "\n",
            "Text: Я только что выиграл конкурс, и не могу поверить в это! Это потрясающее чувство — ощущать себя победителем. Я так рад!\n",
            "Predicted Sentiment: Радость\n",
            "\n",
            "Text: Мне так больно за тебя, я понимаю, как тяжело тебе сейчас. Если тебе нужно поговорить или что-то, я всегда рядом. Ты не один в этом.\n",
            "Predicted Sentiment: Сочувствие\n",
            "\n"
          ]
        }
      ]
    },
    {
      "cell_type": "markdown",
      "source": [
        "Отличные результаты."
      ],
      "metadata": {
        "id": "Yn6zYxd9L7eP"
      }
    },
    {
      "cell_type": "markdown",
      "source": [
        "Теперь попробуем посмотреть как поведут себя другие модели. Возможно они дадут большую точность.\n",
        "\n",
        "Модель - TF-IDF + Случайный лес"
      ],
      "metadata": {
        "id": "9e3LM-pPMiNa"
      }
    },
    {
      "cell_type": "code",
      "source": [
        "from sklearn.ensemble import RandomForestClassifier\n",
        "from sklearn.pipeline import Pipeline\n",
        "from sklearn.feature_extraction.text import TfidfVectorizer\n",
        "from sklearn.metrics import classification_report, accuracy_score\n",
        "\n",
        "# Создаем пайплайн: TF-IDF + Случайный лес\n",
        "rf_pipeline = Pipeline([\n",
        "    ('tfidf', TfidfVectorizer(max_features=5000)),\n",
        "    ('classifier', RandomForestClassifier(n_estimators=100, random_state=42))\n",
        "])\n",
        "\n",
        "# Обучение модели\n",
        "rf_pipeline.fit(X_train, y_train)\n",
        "\n",
        "# Предсказания на тестовой выборке\n",
        "y_pred_rf = rf_pipeline.predict(X_test)\n",
        "\n",
        "# Оценка качества модели\n",
        "print(\"Random Forest Accuracy:\", accuracy_score(y_test, y_pred_rf))\n",
        "print(\"\\nClassification Report (Random Forest):\\n\", classification_report(y_test, y_pred_rf))\n"
      ],
      "metadata": {
        "colab": {
          "base_uri": "https://localhost:8080/"
        },
        "id": "wKy1ORkRUYu5",
        "outputId": "6d9de1a7-3f34-4cf8-b7ca-0400aaa7455c"
      },
      "execution_count": null,
      "outputs": [
        {
          "output_type": "stream",
          "name": "stdout",
          "text": [
            "Random Forest Accuracy: 0.6746411483253588\n",
            "\n",
            "Classification Report (Random Forest):\n",
            "               precision    recall  f1-score   support\n",
            "\n",
            "     Зависть       0.70      0.86      0.78        22\n",
            "      Злость       0.73      0.58      0.64        33\n",
            "     Интерес       0.82      0.39      0.53        23\n",
            "  Нейтрально       0.60      0.89      0.72        44\n",
            "      Печаль       0.63      0.46      0.53        26\n",
            "     Радость       0.65      0.59      0.62        29\n",
            "  Сочувствие       0.74      0.81      0.78        32\n",
            "\n",
            "    accuracy                           0.67       209\n",
            "   macro avg       0.70      0.65      0.66       209\n",
            "weighted avg       0.69      0.67      0.66       209\n",
            "\n"
          ]
        }
      ]
    },
    {
      "cell_type": "markdown",
      "source": [
        "Точность - 0.6794258373205742. Теперь попробуем - TF-IDF + XGBoost"
      ],
      "metadata": {
        "id": "xpTRa-LoNSJH"
      }
    },
    {
      "cell_type": "code",
      "source": [
        "from sklearn.preprocessing import LabelEncoder\n",
        "from sklearn.pipeline import Pipeline\n",
        "from sklearn.feature_extraction.text import TfidfVectorizer\n",
        "import xgboost as xgb\n",
        "from sklearn.metrics import classification_report, accuracy_score\n",
        "\n",
        "# Преобразуем строковые метки в числовые\n",
        "label_encoder = LabelEncoder()\n",
        "y_train_encoded = label_encoder.fit_transform(y_train)\n",
        "y_test_encoded = label_encoder.transform(y_test)\n",
        "\n",
        "# Создаем пайплайн: TF-IDF + XGBoost\n",
        "xgb_pipeline = Pipeline([\n",
        "    ('tfidf', TfidfVectorizer(max_features=5000)),\n",
        "    ('classifier', xgb.XGBClassifier(use_label_encoder=False, eval_metric='mlogloss', random_state=42))\n",
        "])\n",
        "\n",
        "# Обучение модели\n",
        "xgb_pipeline.fit(X_train, y_train_encoded)\n",
        "\n",
        "# Предсказания на тестовой выборке\n",
        "y_pred_xgb = xgb_pipeline.predict(X_test)\n",
        "\n",
        "# Преобразуем предсказания обратно в строковые метки\n",
        "y_pred_xgb_labels = label_encoder.inverse_transform(y_pred_xgb)\n",
        "\n",
        "# Оценка качества модели\n",
        "print(\"XGBoost Accuracy:\", accuracy_score(y_test_encoded, y_pred_xgb))\n",
        "print(\"\\nClassification Report (XGBoost):\\n\", classification_report(y_test_encoded, y_pred_xgb))"
      ],
      "metadata": {
        "colab": {
          "base_uri": "https://localhost:8080/"
        },
        "id": "nE2knn1MUayf",
        "outputId": "48e94c44-38f3-40aa-8fed-62e60c9a9fe9"
      },
      "execution_count": null,
      "outputs": [
        {
          "output_type": "stream",
          "name": "stderr",
          "text": [
            "/usr/local/lib/python3.10/dist-packages/xgboost/core.py:158: UserWarning: [12:02:01] WARNING: /workspace/src/learner.cc:740: \n",
            "Parameters: { \"use_label_encoder\" } are not used.\n",
            "\n",
            "  warnings.warn(smsg, UserWarning)\n"
          ]
        },
        {
          "output_type": "stream",
          "name": "stdout",
          "text": [
            "XGBoost Accuracy: 0.6411483253588517\n",
            "\n",
            "Classification Report (XGBoost):\n",
            "               precision    recall  f1-score   support\n",
            "\n",
            "           0       0.75      0.82      0.78        22\n",
            "           1       0.66      0.58      0.61        33\n",
            "           2       0.50      0.52      0.51        23\n",
            "           3       0.57      0.66      0.61        44\n",
            "           4       0.70      0.62      0.65        26\n",
            "           5       0.59      0.59      0.59        29\n",
            "           6       0.79      0.72      0.75        32\n",
            "\n",
            "    accuracy                           0.64       209\n",
            "   macro avg       0.65      0.64      0.64       209\n",
            "weighted avg       0.65      0.64      0.64       209\n",
            "\n"
          ]
        }
      ]
    },
    {
      "cell_type": "markdown",
      "source": [
        "Точность не очень высока - 0.6411483253588517\n",
        "\n",
        "Что если попробовать TF-IDF + Многослойный перцептрон"
      ],
      "metadata": {
        "id": "m-dQ85EdNe-g"
      }
    },
    {
      "cell_type": "code",
      "source": [
        "from sklearn.neural_network import MLPClassifier\n",
        "from sklearn.pipeline import Pipeline\n",
        "from sklearn.feature_extraction.text import TfidfVectorizer\n",
        "from sklearn.metrics import classification_report, accuracy_score\n",
        "\n",
        "# Создаем пайплайн: TF-IDF + Многослойный перцептрон\n",
        "mlp_pipeline = Pipeline([\n",
        "    ('tfidf', TfidfVectorizer(max_features=5000)),\n",
        "    ('classifier', MLPClassifier(hidden_layer_sizes=(100,), random_state=42))\n",
        "])\n",
        "\n",
        "# Обучение модели\n",
        "mlp_pipeline.fit(X_train, y_train)\n",
        "\n",
        "# Предсказания на тестовой выборке\n",
        "y_pred_mlp = mlp_pipeline.predict(X_test)\n",
        "\n",
        "# Оценка качества модели\n",
        "print(\"MLP Accuracy:\", accuracy_score(y_test, y_pred_mlp))\n",
        "print(\"\\nClassification Report (MLP):\\n\", classification_report(y_test, y_pred_mlp))\n"
      ],
      "metadata": {
        "colab": {
          "base_uri": "https://localhost:8080/"
        },
        "id": "rt2yi0PnUhgu",
        "outputId": "7d80d13d-6ccb-4f41-a800-7d1790afe5d5"
      },
      "execution_count": null,
      "outputs": [
        {
          "output_type": "stream",
          "name": "stdout",
          "text": [
            "MLP Accuracy: 0.7703349282296651\n",
            "\n",
            "Classification Report (MLP):\n",
            "               precision    recall  f1-score   support\n",
            "\n",
            "     Зависть       0.95      0.91      0.93        22\n",
            "      Злость       0.83      0.73      0.77        33\n",
            "     Интерес       0.79      0.83      0.81        23\n",
            "  Нейтрально       0.80      0.73      0.76        44\n",
            "      Печаль       0.62      0.58      0.60        26\n",
            "     Радость       0.67      0.83      0.74        29\n",
            "  Сочувствие       0.77      0.84      0.81        32\n",
            "\n",
            "    accuracy                           0.77       209\n",
            "   macro avg       0.78      0.78      0.77       209\n",
            "weighted avg       0.77      0.77      0.77       209\n",
            "\n"
          ]
        }
      ]
    },
    {
      "cell_type": "markdown",
      "source": [
        "Тут всё похоже с методом - TF-IDF + Логистическая регрессия - 0.7703349282296651\n",
        "\n",
        "Напоследок попробуем - TF-IDF + LightGBM"
      ],
      "metadata": {
        "id": "R2Q3hLq6Ns7w"
      }
    },
    {
      "cell_type": "code",
      "source": [
        "import lightgbm as lgb\n",
        "from sklearn.pipeline import Pipeline\n",
        "from sklearn.feature_extraction.text import TfidfVectorizer\n",
        "from sklearn.metrics import classification_report, accuracy_score\n",
        "\n",
        "# Создаем пайплайн: TF-IDF + LightGBM\n",
        "lgb_pipeline = Pipeline([\n",
        "    ('tfidf', TfidfVectorizer(max_features=5000)),\n",
        "    ('classifier', lgb.LGBMClassifier(random_state=42))\n",
        "])\n",
        "\n",
        "# Обучение модели\n",
        "lgb_pipeline.fit(X_train, y_train)\n",
        "\n",
        "# Предсказания на тестовой выборке\n",
        "y_pred_lgb = lgb_pipeline.predict(X_test)\n",
        "\n",
        "# Оценка качества модели\n",
        "print(\"LightGBM Accuracy:\", accuracy_score(y_test, y_pred_lgb))\n",
        "print(\"\\nClassification Report (LightGBM):\\n\", classification_report(y_test, y_pred_lgb))\n"
      ],
      "metadata": {
        "colab": {
          "base_uri": "https://localhost:8080/"
        },
        "id": "vmoNxlmwUjoA",
        "outputId": "4e06ff9a-ef26-4322-f849-413bf86832b3"
      },
      "execution_count": null,
      "outputs": [
        {
          "output_type": "stream",
          "name": "stderr",
          "text": [
            "/usr/local/lib/python3.10/dist-packages/dask/dataframe/__init__.py:42: FutureWarning: \n",
            "Dask dataframe query planning is disabled because dask-expr is not installed.\n",
            "\n",
            "You can install it with `pip install dask[dataframe]` or `conda install dask`.\n",
            "This will raise in a future version.\n",
            "\n",
            "  warnings.warn(msg, FutureWarning)\n"
          ]
        },
        {
          "output_type": "stream",
          "name": "stdout",
          "text": [
            "[LightGBM] [Info] Auto-choosing row-wise multi-threading, the overhead of testing was 0.001238 seconds.\n",
            "You can set `force_row_wise=true` to remove the overhead.\n",
            "And if memory is not enough, you can set `force_col_wise=true`.\n",
            "[LightGBM] [Info] Total Bins 1520\n",
            "[LightGBM] [Info] Number of data points in the train set: 834, number of used features: 76\n",
            "[LightGBM] [Info] Start training from score -2.091504\n",
            "[LightGBM] [Info] Start training from score -1.914049\n",
            "[LightGBM] [Info] Start training from score -2.182939\n",
            "[LightGBM] [Info] Start training from score -1.651060\n",
            "[LightGBM] [Info] Start training from score -2.053405\n",
            "[LightGBM] [Info] Start training from score -1.828394\n",
            "[LightGBM] [Info] Start training from score -1.998846\n",
            "[LightGBM] [Warning] No further splits with positive gain, best gain: -inf\n",
            "[LightGBM] [Warning] No further splits with positive gain, best gain: -inf\n",
            "[LightGBM] [Warning] No further splits with positive gain, best gain: -inf\n",
            "[LightGBM] [Warning] No further splits with positive gain, best gain: -inf\n",
            "[LightGBM] [Warning] No further splits with positive gain, best gain: -inf\n",
            "[LightGBM] [Warning] No further splits with positive gain, best gain: -inf\n",
            "[LightGBM] [Warning] No further splits with positive gain, best gain: -inf\n",
            "[LightGBM] [Warning] No further splits with positive gain, best gain: -inf\n",
            "[LightGBM] [Warning] No further splits with positive gain, best gain: -inf\n",
            "[LightGBM] [Warning] No further splits with positive gain, best gain: -inf\n",
            "[LightGBM] [Warning] No further splits with positive gain, best gain: -inf\n",
            "[LightGBM] [Warning] No further splits with positive gain, best gain: -inf\n",
            "[LightGBM] [Warning] No further splits with positive gain, best gain: -inf\n",
            "[LightGBM] [Warning] No further splits with positive gain, best gain: -inf\n",
            "[LightGBM] [Warning] No further splits with positive gain, best gain: -inf\n",
            "[LightGBM] [Warning] No further splits with positive gain, best gain: -inf\n",
            "[LightGBM] [Warning] No further splits with positive gain, best gain: -inf\n",
            "[LightGBM] [Warning] No further splits with positive gain, best gain: -inf\n",
            "[LightGBM] [Warning] No further splits with positive gain, best gain: -inf\n",
            "[LightGBM] [Warning] No further splits with positive gain, best gain: -inf\n",
            "[LightGBM] [Warning] No further splits with positive gain, best gain: -inf\n",
            "[LightGBM] [Warning] No further splits with positive gain, best gain: -inf\n",
            "[LightGBM] [Warning] No further splits with positive gain, best gain: -inf\n",
            "[LightGBM] [Warning] No further splits with positive gain, best gain: -inf\n",
            "[LightGBM] [Warning] No further splits with positive gain, best gain: -inf\n",
            "[LightGBM] [Warning] No further splits with positive gain, best gain: -inf\n",
            "[LightGBM] [Warning] No further splits with positive gain, best gain: -inf\n",
            "[LightGBM] [Warning] No further splits with positive gain, best gain: -inf\n",
            "[LightGBM] [Warning] No further splits with positive gain, best gain: -inf\n",
            "[LightGBM] [Warning] No further splits with positive gain, best gain: -inf\n",
            "[LightGBM] [Warning] No further splits with positive gain, best gain: -inf\n",
            "[LightGBM] [Warning] No further splits with positive gain, best gain: -inf\n",
            "[LightGBM] [Warning] No further splits with positive gain, best gain: -inf\n",
            "[LightGBM] [Warning] No further splits with positive gain, best gain: -inf\n",
            "[LightGBM] [Warning] No further splits with positive gain, best gain: -inf\n",
            "[LightGBM] [Warning] No further splits with positive gain, best gain: -inf\n",
            "[LightGBM] [Warning] No further splits with positive gain, best gain: -inf\n",
            "[LightGBM] [Warning] No further splits with positive gain, best gain: -inf\n",
            "[LightGBM] [Warning] No further splits with positive gain, best gain: -inf\n",
            "[LightGBM] [Warning] No further splits with positive gain, best gain: -inf\n",
            "[LightGBM] [Warning] No further splits with positive gain, best gain: -inf\n",
            "[LightGBM] [Warning] No further splits with positive gain, best gain: -inf\n",
            "[LightGBM] [Warning] No further splits with positive gain, best gain: -inf\n",
            "[LightGBM] [Warning] No further splits with positive gain, best gain: -inf\n",
            "[LightGBM] [Warning] No further splits with positive gain, best gain: -inf\n",
            "[LightGBM] [Warning] No further splits with positive gain, best gain: -inf\n",
            "[LightGBM] [Warning] No further splits with positive gain, best gain: -inf\n",
            "[LightGBM] [Warning] No further splits with positive gain, best gain: -inf\n",
            "[LightGBM] [Warning] No further splits with positive gain, best gain: -inf\n",
            "[LightGBM] [Warning] No further splits with positive gain, best gain: -inf\n",
            "[LightGBM] [Warning] No further splits with positive gain, best gain: -inf\n",
            "[LightGBM] [Warning] No further splits with positive gain, best gain: -inf\n",
            "[LightGBM] [Warning] No further splits with positive gain, best gain: -inf\n",
            "[LightGBM] [Warning] No further splits with positive gain, best gain: -inf\n",
            "[LightGBM] [Warning] No further splits with positive gain, best gain: -inf\n",
            "[LightGBM] [Warning] No further splits with positive gain, best gain: -inf\n",
            "[LightGBM] [Warning] No further splits with positive gain, best gain: -inf\n",
            "[LightGBM] [Warning] No further splits with positive gain, best gain: -inf\n",
            "[LightGBM] [Warning] No further splits with positive gain, best gain: -inf\n",
            "[LightGBM] [Warning] No further splits with positive gain, best gain: -inf\n",
            "[LightGBM] [Warning] No further splits with positive gain, best gain: -inf\n",
            "[LightGBM] [Warning] No further splits with positive gain, best gain: -inf\n",
            "[LightGBM] [Warning] No further splits with positive gain, best gain: -inf\n",
            "[LightGBM] [Warning] No further splits with positive gain, best gain: -inf\n",
            "[LightGBM] [Warning] No further splits with positive gain, best gain: -inf\n",
            "[LightGBM] [Warning] No further splits with positive gain, best gain: -inf\n",
            "[LightGBM] [Warning] No further splits with positive gain, best gain: -inf\n",
            "[LightGBM] [Warning] No further splits with positive gain, best gain: -inf\n",
            "[LightGBM] [Warning] No further splits with positive gain, best gain: -inf\n",
            "[LightGBM] [Warning] No further splits with positive gain, best gain: -inf\n",
            "[LightGBM] [Warning] No further splits with positive gain, best gain: -inf\n",
            "[LightGBM] [Warning] No further splits with positive gain, best gain: -inf\n",
            "[LightGBM] [Warning] No further splits with positive gain, best gain: -inf\n",
            "[LightGBM] [Warning] No further splits with positive gain, best gain: -inf\n",
            "[LightGBM] [Warning] No further splits with positive gain, best gain: -inf\n",
            "[LightGBM] [Warning] No further splits with positive gain, best gain: -inf\n",
            "[LightGBM] [Warning] No further splits with positive gain, best gain: -inf\n",
            "[LightGBM] [Warning] No further splits with positive gain, best gain: -inf\n",
            "[LightGBM] [Warning] No further splits with positive gain, best gain: -inf\n",
            "[LightGBM] [Warning] No further splits with positive gain, best gain: -inf\n",
            "LightGBM Accuracy: 0.569377990430622\n",
            "\n",
            "Classification Report (LightGBM):\n",
            "               precision    recall  f1-score   support\n",
            "\n",
            "     Зависть       0.59      0.59      0.59        22\n",
            "      Злость       0.62      0.55      0.58        33\n",
            "     Интерес       0.42      0.48      0.45        23\n",
            "  Нейтрально       0.64      0.61      0.63        44\n",
            "      Печаль       0.61      0.54      0.57        26\n",
            "     Радость       0.42      0.48      0.45        29\n",
            "  Сочувствие       0.65      0.69      0.67        32\n",
            "\n",
            "    accuracy                           0.57       209\n",
            "   macro avg       0.57      0.56      0.56       209\n",
            "weighted avg       0.58      0.57      0.57       209\n",
            "\n"
          ]
        }
      ]
    },
    {
      "cell_type": "markdown",
      "source": [
        "Результат откровенно говоря не впечатляет - 0.569377990430622"
      ],
      "metadata": {
        "id": "WqmWhJB0O3qj"
      }
    },
    {
      "cell_type": "code",
      "source": [
        "!pip install transformers"
      ],
      "metadata": {
        "colab": {
          "base_uri": "https://localhost:8080/"
        },
        "id": "qG_eaKI7C1px",
        "outputId": "66d9c05a-31be-4dab-9e2a-85ebc8b4c1e4"
      },
      "execution_count": null,
      "outputs": [
        {
          "output_type": "stream",
          "name": "stdout",
          "text": [
            "Requirement already satisfied: transformers in /usr/local/lib/python3.10/dist-packages (4.46.2)\n",
            "Requirement already satisfied: filelock in /usr/local/lib/python3.10/dist-packages (from transformers) (3.16.1)\n",
            "Requirement already satisfied: huggingface-hub<1.0,>=0.23.2 in /usr/local/lib/python3.10/dist-packages (from transformers) (0.26.2)\n",
            "Requirement already satisfied: numpy>=1.17 in /usr/local/lib/python3.10/dist-packages (from transformers) (1.26.4)\n",
            "Requirement already satisfied: packaging>=20.0 in /usr/local/lib/python3.10/dist-packages (from transformers) (24.2)\n",
            "Requirement already satisfied: pyyaml>=5.1 in /usr/local/lib/python3.10/dist-packages (from transformers) (6.0.2)\n",
            "Requirement already satisfied: regex!=2019.12.17 in /usr/local/lib/python3.10/dist-packages (from transformers) (2024.9.11)\n",
            "Requirement already satisfied: requests in /usr/local/lib/python3.10/dist-packages (from transformers) (2.32.3)\n",
            "Requirement already satisfied: safetensors>=0.4.1 in /usr/local/lib/python3.10/dist-packages (from transformers) (0.4.5)\n",
            "Requirement already satisfied: tokenizers<0.21,>=0.20 in /usr/local/lib/python3.10/dist-packages (from transformers) (0.20.3)\n",
            "Requirement already satisfied: tqdm>=4.27 in /usr/local/lib/python3.10/dist-packages (from transformers) (4.66.6)\n",
            "Requirement already satisfied: fsspec>=2023.5.0 in /usr/local/lib/python3.10/dist-packages (from huggingface-hub<1.0,>=0.23.2->transformers) (2024.10.0)\n",
            "Requirement already satisfied: typing-extensions>=3.7.4.3 in /usr/local/lib/python3.10/dist-packages (from huggingface-hub<1.0,>=0.23.2->transformers) (4.12.2)\n",
            "Requirement already satisfied: charset-normalizer<4,>=2 in /usr/local/lib/python3.10/dist-packages (from requests->transformers) (3.4.0)\n",
            "Requirement already satisfied: idna<4,>=2.5 in /usr/local/lib/python3.10/dist-packages (from requests->transformers) (3.10)\n",
            "Requirement already satisfied: urllib3<3,>=1.21.1 in /usr/local/lib/python3.10/dist-packages (from requests->transformers) (2.2.3)\n",
            "Requirement already satisfied: certifi>=2017.4.17 in /usr/local/lib/python3.10/dist-packages (from requests->transformers) (2024.8.30)\n"
          ]
        }
      ]
    },
    {
      "cell_type": "code",
      "source": [
        "from transformers import BertTokenizer, BertModel\n",
        "from sklearn.model_selection import train_test_split\n",
        "from sklearn.linear_model import LogisticRegression\n",
        "from sklearn.metrics import classification_report, accuracy_score\n",
        "import torch\n",
        "\n",
        "# Загружаем BERT и токенизатор\n",
        "model_name = \"DeepPavlov/bert-base-cased-conversational\"  # модель для русского языка\n",
        "tokenizer = BertTokenizer.from_pretrained(model_name)\n",
        "bert_model = BertModel.from_pretrained(model_name)\n",
        "\n",
        "# Функция для токенизации и создания эмбеддингов\n",
        "def encode_texts(texts, tokenizer, model, max_length=128):\n",
        "    encoded_inputs = tokenizer.batch_encode_plus(\n",
        "        texts.tolist(),\n",
        "        max_length=max_length,\n",
        "        padding=\"max_length\",\n",
        "        truncation=True,\n",
        "        return_tensors=\"pt\"\n",
        "    )\n",
        "    with torch.no_grad():\n",
        "        outputs = model(**encoded_inputs)\n",
        "    return outputs.last_hidden_state[:, 0, :].numpy()  # Используем [CLS]-токен\n",
        "\n",
        "# Делим данные на обучающую и тестовую выборки\n",
        "X_train, X_test, y_train, y_test = train_test_split(X, y, test_size=0.2, random_state=42)\n",
        "\n",
        "# Преобразуем тексты в эмбеддинги\n",
        "X_train_embeddings = encode_texts(X_train, tokenizer, bert_model)\n",
        "X_test_embeddings = encode_texts(X_test, tokenizer, bert_model)\n",
        "\n",
        "# Обучаем классификатор (например, логистическая регрессия)\n",
        "classifier = LogisticRegression(max_iter=1000)\n",
        "classifier.fit(X_train_embeddings, y_train)\n",
        "\n",
        "# Предсказания и оценка качества модели\n",
        "y_pred = classifier.predict(X_test_embeddings)\n",
        "print(\"BERT + Logistic Regression Accuracy:\", accuracy_score(y_test, y_pred))\n",
        "print(\"\\nClassification Report:\\n\", classification_report(y_test, y_pred))\n"
      ],
      "metadata": {
        "colab": {
          "base_uri": "https://localhost:8080/",
          "height": 544,
          "referenced_widgets": [
            "ff17f7a19edd4413991d5efc0dd9f78f",
            "0d1ca0b8b00c4408afed6112ae5a1124",
            "2c1550ca5dad4306aaa505cefd528b92",
            "f69ab34800904afd82385be4b86af262",
            "e015b773eda444cbbbcbd334ac76d56a",
            "5dbc0f21194e4e1d9b7a492a9a3f5026",
            "fd9b4690965b4473bc084453435ad6e1",
            "238da22c41714ab4b477ea10086d011f",
            "95d21d8401e647c5a8f74870dca49580",
            "bf1d8aa6769248459f4a0d80815de7d4",
            "df32323a1fdd48c89472de53aeeac456",
            "c6462b1ccfed47c0b1d6a583ba4be29c",
            "55c1c4bcaaf94e3c9a848969e7a315fb",
            "20b33c320b194929be22fd4d31dddeb0",
            "a3f3c69ce6eb4a198348c59db6030e2c",
            "a61ad5dbf02d408489ca67a8a2c382dd",
            "d062cec6e5764c2d832c40431890272e",
            "81d257369dfe416a88ae332445d12b5c",
            "9fd4e5dda2a04f308ac3060488a1682e",
            "9b9623c13da54f119f01a3c4d8281f28",
            "8a7dd41c53024d92bcf0633e572dc74f",
            "b7e893f2b09a4406a143027a39b17b29",
            "be76e5660fea46a59e480f3e5b3595be",
            "82fec3b2895740e9a4ceb42b4a734e0a",
            "45e4418faeb14dd1938379e33ea80ef0",
            "8a519e666b714d05952d4ca3b2439d57",
            "3d08f85ae40a4985bfe5ce96be1059a6",
            "8c1236cacd6a4da4b3dd2600216f842f",
            "cc064bb4a4554627a7f4fd2219e90a7d",
            "516d87e0158e4dc4a397183b31741cc1",
            "34c641602aae4be0b0249bc2bd48ad3f",
            "c5f4cebc9e114b089c6aa456b8b30999",
            "4f3327e7275b4fc6b2205594304600f7",
            "95007ab84b3b4740995b144fe010573a",
            "7d490008c1ad4638b4ee1492a5b52700",
            "78f9489b96694b4199c57d7ca5f846aa",
            "c5e69d89da1d448cbbfccbfa2ff1d316",
            "8be56fddd72c4912be4d2466ac1f2eb3",
            "55ece995a66743638431bdf3cfd2b29b",
            "a2f5557e3b99410a9a86052e909753d4",
            "358b36a7f7b94971a5d7d78afeaa8eb5",
            "c33bcd8c32ba4e7eb9fe24b264786d19",
            "82c06d3abdfa40b2ad16683896cdb160",
            "f631a9fda39d43539d4348759fc5e18a",
            "cc36e8ac5c7e4d289dea28446cd37beb",
            "3729ebac7e3e448d99f365923a76901b",
            "f26ca72489c6405085c6ef46dff7cd56",
            "7ff91bf381dd4aa1826903c67417bb5e",
            "e9b529d3d718403da7192f24e257d529",
            "a7821bf3f26f4ee9a682c1999188411a",
            "528fc3077d93488b924c7f039668ea3f",
            "bd048ffe104e4e8c8e9e42d0ed03c61c",
            "ae7d5d15ed7a4db4874a4538dfdd24b0",
            "686f0444a9b74e0885dff2e14d79f6c7",
            "e4b47387bb974c74a29dafb48f638f8a"
          ]
        },
        "id": "aBXFGeLRC4s_",
        "outputId": "a0519bde-93cb-40ba-905e-b406015c5df7"
      },
      "execution_count": null,
      "outputs": [
        {
          "output_type": "display_data",
          "data": {
            "text/plain": [
              "tokenizer_config.json:   0%|          | 0.00/24.0 [00:00<?, ?B/s]"
            ],
            "application/vnd.jupyter.widget-view+json": {
              "version_major": 2,
              "version_minor": 0,
              "model_id": "ff17f7a19edd4413991d5efc0dd9f78f"
            }
          },
          "metadata": {}
        },
        {
          "output_type": "display_data",
          "data": {
            "text/plain": [
              "vocab.txt:   0%|          | 0.00/208k [00:00<?, ?B/s]"
            ],
            "application/vnd.jupyter.widget-view+json": {
              "version_major": 2,
              "version_minor": 0,
              "model_id": "c6462b1ccfed47c0b1d6a583ba4be29c"
            }
          },
          "metadata": {}
        },
        {
          "output_type": "display_data",
          "data": {
            "text/plain": [
              "special_tokens_map.json:   0%|          | 0.00/112 [00:00<?, ?B/s]"
            ],
            "application/vnd.jupyter.widget-view+json": {
              "version_major": 2,
              "version_minor": 0,
              "model_id": "be76e5660fea46a59e480f3e5b3595be"
            }
          },
          "metadata": {}
        },
        {
          "output_type": "display_data",
          "data": {
            "text/plain": [
              "config.json:   0%|          | 0.00/450 [00:00<?, ?B/s]"
            ],
            "application/vnd.jupyter.widget-view+json": {
              "version_major": 2,
              "version_minor": 0,
              "model_id": "95007ab84b3b4740995b144fe010573a"
            }
          },
          "metadata": {}
        },
        {
          "output_type": "display_data",
          "data": {
            "text/plain": [
              "pytorch_model.bin:   0%|          | 0.00/436M [00:00<?, ?B/s]"
            ],
            "application/vnd.jupyter.widget-view+json": {
              "version_major": 2,
              "version_minor": 0,
              "model_id": "cc36e8ac5c7e4d289dea28446cd37beb"
            }
          },
          "metadata": {}
        },
        {
          "output_type": "stream",
          "name": "stderr",
          "text": [
            "Some weights of the model checkpoint at DeepPavlov/bert-base-cased-conversational were not used when initializing BertModel: ['cls.predictions.bias', 'cls.predictions.decoder.bias', 'cls.predictions.decoder.weight', 'cls.predictions.transform.LayerNorm.bias', 'cls.predictions.transform.LayerNorm.weight', 'cls.predictions.transform.dense.bias', 'cls.predictions.transform.dense.weight', 'cls.seq_relationship.bias', 'cls.seq_relationship.weight']\n",
            "- This IS expected if you are initializing BertModel from the checkpoint of a model trained on another task or with another architecture (e.g. initializing a BertForSequenceClassification model from a BertForPreTraining model).\n",
            "- This IS NOT expected if you are initializing BertModel from the checkpoint of a model that you expect to be exactly identical (initializing a BertForSequenceClassification model from a BertForSequenceClassification model).\n"
          ]
        },
        {
          "output_type": "stream",
          "name": "stdout",
          "text": [
            "BERT + Logistic Regression Accuracy: 0.569377990430622\n",
            "\n",
            "Classification Report:\n",
            "               precision    recall  f1-score   support\n",
            "\n",
            "     Зависть       0.57      0.59      0.58        22\n",
            "      Злость       0.53      0.48      0.51        33\n",
            "     Интерес       0.70      0.61      0.65        23\n",
            "  Нейтрально       0.68      0.59      0.63        44\n",
            "      Печаль       0.52      0.54      0.53        26\n",
            "     Радость       0.43      0.55      0.48        29\n",
            "  Сочувствие       0.59      0.62      0.61        32\n",
            "\n",
            "    accuracy                           0.57       209\n",
            "   macro avg       0.57      0.57      0.57       209\n",
            "weighted avg       0.58      0.57      0.57       209\n",
            "\n"
          ]
        }
      ]
    },
    {
      "cell_type": "markdown",
      "source": [
        "Теперь давайте попробуем использовать более сложную модель для работы с текстом. Например BERT."
      ],
      "metadata": {
        "id": "E3LfA1pW1cq0"
      }
    },
    {
      "cell_type": "code",
      "source": [
        "from transformers import BertTokenizer, BertModel\n",
        "from sklearn.model_selection import train_test_split\n",
        "from sklearn.linear_model import LogisticRegression\n",
        "from sklearn.metrics import classification_report, accuracy_score\n",
        "import torch\n",
        "\n",
        "# Загружаем BERT и токенизатор\n",
        "model_name = \"sberbank-ai/ruBert-base\"  # модель для русского языка\n",
        "tokenizer = BertTokenizer.from_pretrained(model_name)\n",
        "bert_model = BertModel.from_pretrained(model_name)\n",
        "\n",
        "# Функция для токенизации и создания эмбеддингов\n",
        "def encode_texts(texts, tokenizer, model, max_length=128):\n",
        "    encoded_inputs = tokenizer.batch_encode_plus(\n",
        "        texts.tolist(),\n",
        "        max_length=max_length,\n",
        "        padding=\"max_length\",\n",
        "        truncation=True,\n",
        "        return_tensors=\"pt\"\n",
        "    )\n",
        "    with torch.no_grad():\n",
        "        outputs = model(**encoded_inputs)\n",
        "    return outputs.last_hidden_state[:, 0, :].numpy()  # Используем [CLS]-токен\n",
        "\n",
        "# Делим данные на обучающую и тестовую выборки\n",
        "X_train, X_test, y_train, y_test = train_test_split(X, y, test_size=0.2, random_state=42)\n",
        "\n",
        "# Преобразуем тексты в эмбеддинги\n",
        "X_train_embeddings = encode_texts(X_train, tokenizer, bert_model)\n",
        "X_test_embeddings = encode_texts(X_test, tokenizer, bert_model)\n",
        "\n",
        "# Обучаем классификатор (например, логистическая регрессия)\n",
        "classifier = LogisticRegression(max_iter=1000)\n",
        "classifier.fit(X_train_embeddings, y_train)\n",
        "\n",
        "# Предсказания и оценка качества модели\n",
        "y_pred = classifier.predict(X_test_embeddings)\n",
        "print(\"BERT + Logistic Regression Accuracy:\", accuracy_score(y_test, y_pred))\n",
        "print(\"\\nClassification Report:\\n\", classification_report(y_test, y_pred))\n"
      ],
      "metadata": {
        "colab": {
          "base_uri": "https://localhost:8080/",
          "height": 408,
          "referenced_widgets": [
            "f4a096df560b4afd97ee39b56b32dbe7",
            "2bf70e460d6f49ffa3fb514f84d33547",
            "96ccf7641ba9455fa2eb9ed20309bcff",
            "800143ebd5f44da49df6154ee91f0e47",
            "b67b381f9a024da19a4e6125011654e0",
            "059c58de8d894018bd7c8e4fc1e06748",
            "1eb7ed3e6fc04230850ba9f447e86abf",
            "bd06e96f49874a6ca95956080aa8c538",
            "eeb40c8aacb94750a1efe76e92fd804a",
            "3fc18506bbe842ae827297c5450163d2",
            "90c17d06c946490dbd56a1b813cd0d2f",
            "76489c7ec0de461c990232491373dc38",
            "482cb3edb2994dff80e34b4a82d27e74",
            "277cb3a00151403dbce1fbba3dc597cc",
            "df869ea9db854b81923fe588fa34b85d",
            "494803f3247744428904c2ccc9144adb",
            "26234a7f2425404db8f209678c9290f0",
            "685809a0c21a42d5a43fd6edb9c4f7ae",
            "e25611cbb59a4684b7a3523b39a383d7",
            "a6127aa5217249838166a9f2322001f6",
            "943cf5d6bd674552b5b23c72de0995d8",
            "57719c8b3da2409aae63b3841d2f6590",
            "c63549a86d954c6dbbb539d4f8dcd3b4",
            "f56f664ff0c4451e9cf8ad7404a96e00",
            "bef13b91530748febc81d4292a7b19ac",
            "481fffd5eaba4d3ea3119cea7e8e153a",
            "849c892ed20e49ef90936fb10b8a019c",
            "07cce581683c434a9535ebda076b525c",
            "bed49392edaa4d218396bbae359853c8",
            "f4ffb5999ca34c6389a2e88cf9ae4506",
            "b4858dea776144ffb4372c289cbc00a1",
            "519ce5b4bc4049ec930ad09e8bace71f",
            "bb723a5bfce0410d8d16e3d67ac4a02b"
          ]
        },
        "outputId": "f2562922-d547-4be3-8742-a20d434ab2f4",
        "id": "tbq0-DJ4F2UD"
      },
      "execution_count": null,
      "outputs": [
        {
          "output_type": "display_data",
          "data": {
            "text/plain": [
              "vocab.txt:   0%|          | 0.00/1.78M [00:00<?, ?B/s]"
            ],
            "application/vnd.jupyter.widget-view+json": {
              "version_major": 2,
              "version_minor": 0,
              "model_id": "f4a096df560b4afd97ee39b56b32dbe7"
            }
          },
          "metadata": {}
        },
        {
          "output_type": "display_data",
          "data": {
            "text/plain": [
              "config.json:   0%|          | 0.00/590 [00:00<?, ?B/s]"
            ],
            "application/vnd.jupyter.widget-view+json": {
              "version_major": 2,
              "version_minor": 0,
              "model_id": "76489c7ec0de461c990232491373dc38"
            }
          },
          "metadata": {}
        },
        {
          "output_type": "display_data",
          "data": {
            "text/plain": [
              "pytorch_model.bin:   0%|          | 0.00/716M [00:00<?, ?B/s]"
            ],
            "application/vnd.jupyter.widget-view+json": {
              "version_major": 2,
              "version_minor": 0,
              "model_id": "c63549a86d954c6dbbb539d4f8dcd3b4"
            }
          },
          "metadata": {}
        },
        {
          "output_type": "stream",
          "name": "stdout",
          "text": [
            "BERT + Logistic Regression Accuracy: 0.8325358851674641\n",
            "\n",
            "Classification Report:\n",
            "               precision    recall  f1-score   support\n",
            "\n",
            "     Зависть       0.91      0.91      0.91        22\n",
            "      Злость       0.83      0.91      0.87        33\n",
            "     Интерес       0.76      0.83      0.79        23\n",
            "  Нейтрально       0.86      0.86      0.86        44\n",
            "      Печаль       0.81      0.65      0.72        26\n",
            "     Радость       0.77      0.79      0.78        29\n",
            "  Сочувствие       0.87      0.84      0.86        32\n",
            "\n",
            "    accuracy                           0.83       209\n",
            "   macro avg       0.83      0.83      0.83       209\n",
            "weighted avg       0.83      0.83      0.83       209\n",
            "\n"
          ]
        }
      ]
    },
    {
      "cell_type": "markdown",
      "source": [
        "Результаты и правда стали лучше - 0.8325358851674641. Теперь можно подвести промежуточные итоги."
      ],
      "metadata": {
        "id": "DOBu3fS-1pEW"
      }
    },
    {
      "cell_type": "markdown",
      "source": [
        "**Итоговые результаты:**\n",
        "\n",
        "1. TF-IDF + Логистическая регрессия с балансировкой классов - 0.7894736842105263\n",
        "2. TF-IDF + Логистическая регрессия - 0.7703349282296651\n",
        "3. TF-IDF + Многослойный перцептрон - 0.7703349282296651\n",
        "4. TF-IDF + Случайный лес - 0.6746411483253588\n",
        "5. TF-IDF + XGBoost - 0.6411483253588517\n",
        "6. TF-IDF + LightGBM - 0.569377990430622\n",
        "7. BERT + Логистическая регрессия - 0.8325358851674641\n",
        "\n",
        "**Выводы:**\n",
        "\n",
        "Лучший результат показала комбинация BERT + Логистическая регрессия с точностью 0.8325, что значительно превышает все другие модели. Это подтверждает высокую эффективность использования трансформеров (BERT) для обработки текстовых данных, особенно при работе с большими объемами информации, где модели, обученные на больших корпусах текста, могут извлекать более глубокие и точные признаки.\n",
        "\n",
        "TF-IDF + Логистическая регрессия с балансировкой классов продемонстрировала хороший результат (0.7895), что указывает на способность классического подхода (TF-IDF) и логистической регрессии справляться с задачей классификации, особенно при применении техник балансировки классов для устранения дисбаланса в данных.\n",
        "\n",
        "TF-IDF + Логистическая регрессия и TF-IDF + Многослойный перцептрон показали идентичные результаты (0.7703), что говорит о схожей эффективности этих подходов в данной задаче. Несмотря на то, что многослойный перцептрон является более сложной моделью, его производительность не значительно превосходит более простую логистическую регрессию.\n",
        "\n",
        "TF-IDF + Случайный лес (0.6746) и TF-IDF + XGBoost (0.6411) имеют значительно более низкие результаты, что может свидетельствовать о том, что для данной задачи модели с деревьями решений не способны эффективно захватывать текстовые особенности в данных. Это подтверждает важность выбора модели, которая лучше подходит для обработки текстов.\n",
        "\n",
        "TF-IDF + LightGBM показал наименьший результат (0.5694), что указывает на его слабую способность эффективно работать с текстовыми признаками в рамках данной задачи, возможно, из-за неоптимальных гиперпараметров или недостаточной способности захватывать сложные взаимосвязи в тексте.\n",
        "\n",
        "Общий вывод:\n",
        "Для задач классификации текстов BERT + Логистическая регрессия показала наилучшие результаты и, вероятно, является наиболее эффективным решением среди протестированных моделей. В то время как более простые модели, такие как TF-IDF + Логистическая регрессия, также демонстрируют хорошие результаты, но более сложные методы, такие как многослойный перцептрон или деревья решений, не оказались столь успешными в данной задаче."
      ],
      "metadata": {
        "id": "TOL99YOyO9CC"
      }
    }
  ],
  "metadata": {
    "colab": {
      "provenance": [],
      "authorship_tag": "ABX9TyPgYUxf2g3buDeea6DWA9jZ",
      "include_colab_link": true
    },
    "kernelspec": {
      "display_name": "Python 3",
      "name": "python3"
    },
    "language_info": {
      "name": "python"
    },
    "widgets": {
      "application/vnd.jupyter.widget-state+json": {
        "ff17f7a19edd4413991d5efc0dd9f78f": {
          "model_module": "@jupyter-widgets/controls",
          "model_name": "HBoxModel",
          "model_module_version": "1.5.0",
          "state": {
            "_dom_classes": [],
            "_model_module": "@jupyter-widgets/controls",
            "_model_module_version": "1.5.0",
            "_model_name": "HBoxModel",
            "_view_count": null,
            "_view_module": "@jupyter-widgets/controls",
            "_view_module_version": "1.5.0",
            "_view_name": "HBoxView",
            "box_style": "",
            "children": [
              "IPY_MODEL_0d1ca0b8b00c4408afed6112ae5a1124",
              "IPY_MODEL_2c1550ca5dad4306aaa505cefd528b92",
              "IPY_MODEL_f69ab34800904afd82385be4b86af262"
            ],
            "layout": "IPY_MODEL_e015b773eda444cbbbcbd334ac76d56a"
          }
        },
        "0d1ca0b8b00c4408afed6112ae5a1124": {
          "model_module": "@jupyter-widgets/controls",
          "model_name": "HTMLModel",
          "model_module_version": "1.5.0",
          "state": {
            "_dom_classes": [],
            "_model_module": "@jupyter-widgets/controls",
            "_model_module_version": "1.5.0",
            "_model_name": "HTMLModel",
            "_view_count": null,
            "_view_module": "@jupyter-widgets/controls",
            "_view_module_version": "1.5.0",
            "_view_name": "HTMLView",
            "description": "",
            "description_tooltip": null,
            "layout": "IPY_MODEL_5dbc0f21194e4e1d9b7a492a9a3f5026",
            "placeholder": "​",
            "style": "IPY_MODEL_fd9b4690965b4473bc084453435ad6e1",
            "value": "tokenizer_config.json: 100%"
          }
        },
        "2c1550ca5dad4306aaa505cefd528b92": {
          "model_module": "@jupyter-widgets/controls",
          "model_name": "FloatProgressModel",
          "model_module_version": "1.5.0",
          "state": {
            "_dom_classes": [],
            "_model_module": "@jupyter-widgets/controls",
            "_model_module_version": "1.5.0",
            "_model_name": "FloatProgressModel",
            "_view_count": null,
            "_view_module": "@jupyter-widgets/controls",
            "_view_module_version": "1.5.0",
            "_view_name": "ProgressView",
            "bar_style": "success",
            "description": "",
            "description_tooltip": null,
            "layout": "IPY_MODEL_238da22c41714ab4b477ea10086d011f",
            "max": 24,
            "min": 0,
            "orientation": "horizontal",
            "style": "IPY_MODEL_95d21d8401e647c5a8f74870dca49580",
            "value": 24
          }
        },
        "f69ab34800904afd82385be4b86af262": {
          "model_module": "@jupyter-widgets/controls",
          "model_name": "HTMLModel",
          "model_module_version": "1.5.0",
          "state": {
            "_dom_classes": [],
            "_model_module": "@jupyter-widgets/controls",
            "_model_module_version": "1.5.0",
            "_model_name": "HTMLModel",
            "_view_count": null,
            "_view_module": "@jupyter-widgets/controls",
            "_view_module_version": "1.5.0",
            "_view_name": "HTMLView",
            "description": "",
            "description_tooltip": null,
            "layout": "IPY_MODEL_bf1d8aa6769248459f4a0d80815de7d4",
            "placeholder": "​",
            "style": "IPY_MODEL_df32323a1fdd48c89472de53aeeac456",
            "value": " 24.0/24.0 [00:00&lt;00:00, 647B/s]"
          }
        },
        "e015b773eda444cbbbcbd334ac76d56a": {
          "model_module": "@jupyter-widgets/base",
          "model_name": "LayoutModel",
          "model_module_version": "1.2.0",
          "state": {
            "_model_module": "@jupyter-widgets/base",
            "_model_module_version": "1.2.0",
            "_model_name": "LayoutModel",
            "_view_count": null,
            "_view_module": "@jupyter-widgets/base",
            "_view_module_version": "1.2.0",
            "_view_name": "LayoutView",
            "align_content": null,
            "align_items": null,
            "align_self": null,
            "border": null,
            "bottom": null,
            "display": null,
            "flex": null,
            "flex_flow": null,
            "grid_area": null,
            "grid_auto_columns": null,
            "grid_auto_flow": null,
            "grid_auto_rows": null,
            "grid_column": null,
            "grid_gap": null,
            "grid_row": null,
            "grid_template_areas": null,
            "grid_template_columns": null,
            "grid_template_rows": null,
            "height": null,
            "justify_content": null,
            "justify_items": null,
            "left": null,
            "margin": null,
            "max_height": null,
            "max_width": null,
            "min_height": null,
            "min_width": null,
            "object_fit": null,
            "object_position": null,
            "order": null,
            "overflow": null,
            "overflow_x": null,
            "overflow_y": null,
            "padding": null,
            "right": null,
            "top": null,
            "visibility": null,
            "width": null
          }
        },
        "5dbc0f21194e4e1d9b7a492a9a3f5026": {
          "model_module": "@jupyter-widgets/base",
          "model_name": "LayoutModel",
          "model_module_version": "1.2.0",
          "state": {
            "_model_module": "@jupyter-widgets/base",
            "_model_module_version": "1.2.0",
            "_model_name": "LayoutModel",
            "_view_count": null,
            "_view_module": "@jupyter-widgets/base",
            "_view_module_version": "1.2.0",
            "_view_name": "LayoutView",
            "align_content": null,
            "align_items": null,
            "align_self": null,
            "border": null,
            "bottom": null,
            "display": null,
            "flex": null,
            "flex_flow": null,
            "grid_area": null,
            "grid_auto_columns": null,
            "grid_auto_flow": null,
            "grid_auto_rows": null,
            "grid_column": null,
            "grid_gap": null,
            "grid_row": null,
            "grid_template_areas": null,
            "grid_template_columns": null,
            "grid_template_rows": null,
            "height": null,
            "justify_content": null,
            "justify_items": null,
            "left": null,
            "margin": null,
            "max_height": null,
            "max_width": null,
            "min_height": null,
            "min_width": null,
            "object_fit": null,
            "object_position": null,
            "order": null,
            "overflow": null,
            "overflow_x": null,
            "overflow_y": null,
            "padding": null,
            "right": null,
            "top": null,
            "visibility": null,
            "width": null
          }
        },
        "fd9b4690965b4473bc084453435ad6e1": {
          "model_module": "@jupyter-widgets/controls",
          "model_name": "DescriptionStyleModel",
          "model_module_version": "1.5.0",
          "state": {
            "_model_module": "@jupyter-widgets/controls",
            "_model_module_version": "1.5.0",
            "_model_name": "DescriptionStyleModel",
            "_view_count": null,
            "_view_module": "@jupyter-widgets/base",
            "_view_module_version": "1.2.0",
            "_view_name": "StyleView",
            "description_width": ""
          }
        },
        "238da22c41714ab4b477ea10086d011f": {
          "model_module": "@jupyter-widgets/base",
          "model_name": "LayoutModel",
          "model_module_version": "1.2.0",
          "state": {
            "_model_module": "@jupyter-widgets/base",
            "_model_module_version": "1.2.0",
            "_model_name": "LayoutModel",
            "_view_count": null,
            "_view_module": "@jupyter-widgets/base",
            "_view_module_version": "1.2.0",
            "_view_name": "LayoutView",
            "align_content": null,
            "align_items": null,
            "align_self": null,
            "border": null,
            "bottom": null,
            "display": null,
            "flex": null,
            "flex_flow": null,
            "grid_area": null,
            "grid_auto_columns": null,
            "grid_auto_flow": null,
            "grid_auto_rows": null,
            "grid_column": null,
            "grid_gap": null,
            "grid_row": null,
            "grid_template_areas": null,
            "grid_template_columns": null,
            "grid_template_rows": null,
            "height": null,
            "justify_content": null,
            "justify_items": null,
            "left": null,
            "margin": null,
            "max_height": null,
            "max_width": null,
            "min_height": null,
            "min_width": null,
            "object_fit": null,
            "object_position": null,
            "order": null,
            "overflow": null,
            "overflow_x": null,
            "overflow_y": null,
            "padding": null,
            "right": null,
            "top": null,
            "visibility": null,
            "width": null
          }
        },
        "95d21d8401e647c5a8f74870dca49580": {
          "model_module": "@jupyter-widgets/controls",
          "model_name": "ProgressStyleModel",
          "model_module_version": "1.5.0",
          "state": {
            "_model_module": "@jupyter-widgets/controls",
            "_model_module_version": "1.5.0",
            "_model_name": "ProgressStyleModel",
            "_view_count": null,
            "_view_module": "@jupyter-widgets/base",
            "_view_module_version": "1.2.0",
            "_view_name": "StyleView",
            "bar_color": null,
            "description_width": ""
          }
        },
        "bf1d8aa6769248459f4a0d80815de7d4": {
          "model_module": "@jupyter-widgets/base",
          "model_name": "LayoutModel",
          "model_module_version": "1.2.0",
          "state": {
            "_model_module": "@jupyter-widgets/base",
            "_model_module_version": "1.2.0",
            "_model_name": "LayoutModel",
            "_view_count": null,
            "_view_module": "@jupyter-widgets/base",
            "_view_module_version": "1.2.0",
            "_view_name": "LayoutView",
            "align_content": null,
            "align_items": null,
            "align_self": null,
            "border": null,
            "bottom": null,
            "display": null,
            "flex": null,
            "flex_flow": null,
            "grid_area": null,
            "grid_auto_columns": null,
            "grid_auto_flow": null,
            "grid_auto_rows": null,
            "grid_column": null,
            "grid_gap": null,
            "grid_row": null,
            "grid_template_areas": null,
            "grid_template_columns": null,
            "grid_template_rows": null,
            "height": null,
            "justify_content": null,
            "justify_items": null,
            "left": null,
            "margin": null,
            "max_height": null,
            "max_width": null,
            "min_height": null,
            "min_width": null,
            "object_fit": null,
            "object_position": null,
            "order": null,
            "overflow": null,
            "overflow_x": null,
            "overflow_y": null,
            "padding": null,
            "right": null,
            "top": null,
            "visibility": null,
            "width": null
          }
        },
        "df32323a1fdd48c89472de53aeeac456": {
          "model_module": "@jupyter-widgets/controls",
          "model_name": "DescriptionStyleModel",
          "model_module_version": "1.5.0",
          "state": {
            "_model_module": "@jupyter-widgets/controls",
            "_model_module_version": "1.5.0",
            "_model_name": "DescriptionStyleModel",
            "_view_count": null,
            "_view_module": "@jupyter-widgets/base",
            "_view_module_version": "1.2.0",
            "_view_name": "StyleView",
            "description_width": ""
          }
        },
        "c6462b1ccfed47c0b1d6a583ba4be29c": {
          "model_module": "@jupyter-widgets/controls",
          "model_name": "HBoxModel",
          "model_module_version": "1.5.0",
          "state": {
            "_dom_classes": [],
            "_model_module": "@jupyter-widgets/controls",
            "_model_module_version": "1.5.0",
            "_model_name": "HBoxModel",
            "_view_count": null,
            "_view_module": "@jupyter-widgets/controls",
            "_view_module_version": "1.5.0",
            "_view_name": "HBoxView",
            "box_style": "",
            "children": [
              "IPY_MODEL_55c1c4bcaaf94e3c9a848969e7a315fb",
              "IPY_MODEL_20b33c320b194929be22fd4d31dddeb0",
              "IPY_MODEL_a3f3c69ce6eb4a198348c59db6030e2c"
            ],
            "layout": "IPY_MODEL_a61ad5dbf02d408489ca67a8a2c382dd"
          }
        },
        "55c1c4bcaaf94e3c9a848969e7a315fb": {
          "model_module": "@jupyter-widgets/controls",
          "model_name": "HTMLModel",
          "model_module_version": "1.5.0",
          "state": {
            "_dom_classes": [],
            "_model_module": "@jupyter-widgets/controls",
            "_model_module_version": "1.5.0",
            "_model_name": "HTMLModel",
            "_view_count": null,
            "_view_module": "@jupyter-widgets/controls",
            "_view_module_version": "1.5.0",
            "_view_name": "HTMLView",
            "description": "",
            "description_tooltip": null,
            "layout": "IPY_MODEL_d062cec6e5764c2d832c40431890272e",
            "placeholder": "​",
            "style": "IPY_MODEL_81d257369dfe416a88ae332445d12b5c",
            "value": "vocab.txt: 100%"
          }
        },
        "20b33c320b194929be22fd4d31dddeb0": {
          "model_module": "@jupyter-widgets/controls",
          "model_name": "FloatProgressModel",
          "model_module_version": "1.5.0",
          "state": {
            "_dom_classes": [],
            "_model_module": "@jupyter-widgets/controls",
            "_model_module_version": "1.5.0",
            "_model_name": "FloatProgressModel",
            "_view_count": null,
            "_view_module": "@jupyter-widgets/controls",
            "_view_module_version": "1.5.0",
            "_view_name": "ProgressView",
            "bar_style": "success",
            "description": "",
            "description_tooltip": null,
            "layout": "IPY_MODEL_9fd4e5dda2a04f308ac3060488a1682e",
            "max": 207979,
            "min": 0,
            "orientation": "horizontal",
            "style": "IPY_MODEL_9b9623c13da54f119f01a3c4d8281f28",
            "value": 207979
          }
        },
        "a3f3c69ce6eb4a198348c59db6030e2c": {
          "model_module": "@jupyter-widgets/controls",
          "model_name": "HTMLModel",
          "model_module_version": "1.5.0",
          "state": {
            "_dom_classes": [],
            "_model_module": "@jupyter-widgets/controls",
            "_model_module_version": "1.5.0",
            "_model_name": "HTMLModel",
            "_view_count": null,
            "_view_module": "@jupyter-widgets/controls",
            "_view_module_version": "1.5.0",
            "_view_name": "HTMLView",
            "description": "",
            "description_tooltip": null,
            "layout": "IPY_MODEL_8a7dd41c53024d92bcf0633e572dc74f",
            "placeholder": "​",
            "style": "IPY_MODEL_b7e893f2b09a4406a143027a39b17b29",
            "value": " 208k/208k [00:00&lt;00:00, 3.18MB/s]"
          }
        },
        "a61ad5dbf02d408489ca67a8a2c382dd": {
          "model_module": "@jupyter-widgets/base",
          "model_name": "LayoutModel",
          "model_module_version": "1.2.0",
          "state": {
            "_model_module": "@jupyter-widgets/base",
            "_model_module_version": "1.2.0",
            "_model_name": "LayoutModel",
            "_view_count": null,
            "_view_module": "@jupyter-widgets/base",
            "_view_module_version": "1.2.0",
            "_view_name": "LayoutView",
            "align_content": null,
            "align_items": null,
            "align_self": null,
            "border": null,
            "bottom": null,
            "display": null,
            "flex": null,
            "flex_flow": null,
            "grid_area": null,
            "grid_auto_columns": null,
            "grid_auto_flow": null,
            "grid_auto_rows": null,
            "grid_column": null,
            "grid_gap": null,
            "grid_row": null,
            "grid_template_areas": null,
            "grid_template_columns": null,
            "grid_template_rows": null,
            "height": null,
            "justify_content": null,
            "justify_items": null,
            "left": null,
            "margin": null,
            "max_height": null,
            "max_width": null,
            "min_height": null,
            "min_width": null,
            "object_fit": null,
            "object_position": null,
            "order": null,
            "overflow": null,
            "overflow_x": null,
            "overflow_y": null,
            "padding": null,
            "right": null,
            "top": null,
            "visibility": null,
            "width": null
          }
        },
        "d062cec6e5764c2d832c40431890272e": {
          "model_module": "@jupyter-widgets/base",
          "model_name": "LayoutModel",
          "model_module_version": "1.2.0",
          "state": {
            "_model_module": "@jupyter-widgets/base",
            "_model_module_version": "1.2.0",
            "_model_name": "LayoutModel",
            "_view_count": null,
            "_view_module": "@jupyter-widgets/base",
            "_view_module_version": "1.2.0",
            "_view_name": "LayoutView",
            "align_content": null,
            "align_items": null,
            "align_self": null,
            "border": null,
            "bottom": null,
            "display": null,
            "flex": null,
            "flex_flow": null,
            "grid_area": null,
            "grid_auto_columns": null,
            "grid_auto_flow": null,
            "grid_auto_rows": null,
            "grid_column": null,
            "grid_gap": null,
            "grid_row": null,
            "grid_template_areas": null,
            "grid_template_columns": null,
            "grid_template_rows": null,
            "height": null,
            "justify_content": null,
            "justify_items": null,
            "left": null,
            "margin": null,
            "max_height": null,
            "max_width": null,
            "min_height": null,
            "min_width": null,
            "object_fit": null,
            "object_position": null,
            "order": null,
            "overflow": null,
            "overflow_x": null,
            "overflow_y": null,
            "padding": null,
            "right": null,
            "top": null,
            "visibility": null,
            "width": null
          }
        },
        "81d257369dfe416a88ae332445d12b5c": {
          "model_module": "@jupyter-widgets/controls",
          "model_name": "DescriptionStyleModel",
          "model_module_version": "1.5.0",
          "state": {
            "_model_module": "@jupyter-widgets/controls",
            "_model_module_version": "1.5.0",
            "_model_name": "DescriptionStyleModel",
            "_view_count": null,
            "_view_module": "@jupyter-widgets/base",
            "_view_module_version": "1.2.0",
            "_view_name": "StyleView",
            "description_width": ""
          }
        },
        "9fd4e5dda2a04f308ac3060488a1682e": {
          "model_module": "@jupyter-widgets/base",
          "model_name": "LayoutModel",
          "model_module_version": "1.2.0",
          "state": {
            "_model_module": "@jupyter-widgets/base",
            "_model_module_version": "1.2.0",
            "_model_name": "LayoutModel",
            "_view_count": null,
            "_view_module": "@jupyter-widgets/base",
            "_view_module_version": "1.2.0",
            "_view_name": "LayoutView",
            "align_content": null,
            "align_items": null,
            "align_self": null,
            "border": null,
            "bottom": null,
            "display": null,
            "flex": null,
            "flex_flow": null,
            "grid_area": null,
            "grid_auto_columns": null,
            "grid_auto_flow": null,
            "grid_auto_rows": null,
            "grid_column": null,
            "grid_gap": null,
            "grid_row": null,
            "grid_template_areas": null,
            "grid_template_columns": null,
            "grid_template_rows": null,
            "height": null,
            "justify_content": null,
            "justify_items": null,
            "left": null,
            "margin": null,
            "max_height": null,
            "max_width": null,
            "min_height": null,
            "min_width": null,
            "object_fit": null,
            "object_position": null,
            "order": null,
            "overflow": null,
            "overflow_x": null,
            "overflow_y": null,
            "padding": null,
            "right": null,
            "top": null,
            "visibility": null,
            "width": null
          }
        },
        "9b9623c13da54f119f01a3c4d8281f28": {
          "model_module": "@jupyter-widgets/controls",
          "model_name": "ProgressStyleModel",
          "model_module_version": "1.5.0",
          "state": {
            "_model_module": "@jupyter-widgets/controls",
            "_model_module_version": "1.5.0",
            "_model_name": "ProgressStyleModel",
            "_view_count": null,
            "_view_module": "@jupyter-widgets/base",
            "_view_module_version": "1.2.0",
            "_view_name": "StyleView",
            "bar_color": null,
            "description_width": ""
          }
        },
        "8a7dd41c53024d92bcf0633e572dc74f": {
          "model_module": "@jupyter-widgets/base",
          "model_name": "LayoutModel",
          "model_module_version": "1.2.0",
          "state": {
            "_model_module": "@jupyter-widgets/base",
            "_model_module_version": "1.2.0",
            "_model_name": "LayoutModel",
            "_view_count": null,
            "_view_module": "@jupyter-widgets/base",
            "_view_module_version": "1.2.0",
            "_view_name": "LayoutView",
            "align_content": null,
            "align_items": null,
            "align_self": null,
            "border": null,
            "bottom": null,
            "display": null,
            "flex": null,
            "flex_flow": null,
            "grid_area": null,
            "grid_auto_columns": null,
            "grid_auto_flow": null,
            "grid_auto_rows": null,
            "grid_column": null,
            "grid_gap": null,
            "grid_row": null,
            "grid_template_areas": null,
            "grid_template_columns": null,
            "grid_template_rows": null,
            "height": null,
            "justify_content": null,
            "justify_items": null,
            "left": null,
            "margin": null,
            "max_height": null,
            "max_width": null,
            "min_height": null,
            "min_width": null,
            "object_fit": null,
            "object_position": null,
            "order": null,
            "overflow": null,
            "overflow_x": null,
            "overflow_y": null,
            "padding": null,
            "right": null,
            "top": null,
            "visibility": null,
            "width": null
          }
        },
        "b7e893f2b09a4406a143027a39b17b29": {
          "model_module": "@jupyter-widgets/controls",
          "model_name": "DescriptionStyleModel",
          "model_module_version": "1.5.0",
          "state": {
            "_model_module": "@jupyter-widgets/controls",
            "_model_module_version": "1.5.0",
            "_model_name": "DescriptionStyleModel",
            "_view_count": null,
            "_view_module": "@jupyter-widgets/base",
            "_view_module_version": "1.2.0",
            "_view_name": "StyleView",
            "description_width": ""
          }
        },
        "be76e5660fea46a59e480f3e5b3595be": {
          "model_module": "@jupyter-widgets/controls",
          "model_name": "HBoxModel",
          "model_module_version": "1.5.0",
          "state": {
            "_dom_classes": [],
            "_model_module": "@jupyter-widgets/controls",
            "_model_module_version": "1.5.0",
            "_model_name": "HBoxModel",
            "_view_count": null,
            "_view_module": "@jupyter-widgets/controls",
            "_view_module_version": "1.5.0",
            "_view_name": "HBoxView",
            "box_style": "",
            "children": [
              "IPY_MODEL_82fec3b2895740e9a4ceb42b4a734e0a",
              "IPY_MODEL_45e4418faeb14dd1938379e33ea80ef0",
              "IPY_MODEL_8a519e666b714d05952d4ca3b2439d57"
            ],
            "layout": "IPY_MODEL_3d08f85ae40a4985bfe5ce96be1059a6"
          }
        },
        "82fec3b2895740e9a4ceb42b4a734e0a": {
          "model_module": "@jupyter-widgets/controls",
          "model_name": "HTMLModel",
          "model_module_version": "1.5.0",
          "state": {
            "_dom_classes": [],
            "_model_module": "@jupyter-widgets/controls",
            "_model_module_version": "1.5.0",
            "_model_name": "HTMLModel",
            "_view_count": null,
            "_view_module": "@jupyter-widgets/controls",
            "_view_module_version": "1.5.0",
            "_view_name": "HTMLView",
            "description": "",
            "description_tooltip": null,
            "layout": "IPY_MODEL_8c1236cacd6a4da4b3dd2600216f842f",
            "placeholder": "​",
            "style": "IPY_MODEL_cc064bb4a4554627a7f4fd2219e90a7d",
            "value": "special_tokens_map.json: 100%"
          }
        },
        "45e4418faeb14dd1938379e33ea80ef0": {
          "model_module": "@jupyter-widgets/controls",
          "model_name": "FloatProgressModel",
          "model_module_version": "1.5.0",
          "state": {
            "_dom_classes": [],
            "_model_module": "@jupyter-widgets/controls",
            "_model_module_version": "1.5.0",
            "_model_name": "FloatProgressModel",
            "_view_count": null,
            "_view_module": "@jupyter-widgets/controls",
            "_view_module_version": "1.5.0",
            "_view_name": "ProgressView",
            "bar_style": "success",
            "description": "",
            "description_tooltip": null,
            "layout": "IPY_MODEL_516d87e0158e4dc4a397183b31741cc1",
            "max": 112,
            "min": 0,
            "orientation": "horizontal",
            "style": "IPY_MODEL_34c641602aae4be0b0249bc2bd48ad3f",
            "value": 112
          }
        },
        "8a519e666b714d05952d4ca3b2439d57": {
          "model_module": "@jupyter-widgets/controls",
          "model_name": "HTMLModel",
          "model_module_version": "1.5.0",
          "state": {
            "_dom_classes": [],
            "_model_module": "@jupyter-widgets/controls",
            "_model_module_version": "1.5.0",
            "_model_name": "HTMLModel",
            "_view_count": null,
            "_view_module": "@jupyter-widgets/controls",
            "_view_module_version": "1.5.0",
            "_view_name": "HTMLView",
            "description": "",
            "description_tooltip": null,
            "layout": "IPY_MODEL_c5f4cebc9e114b089c6aa456b8b30999",
            "placeholder": "​",
            "style": "IPY_MODEL_4f3327e7275b4fc6b2205594304600f7",
            "value": " 112/112 [00:00&lt;00:00, 1.35kB/s]"
          }
        },
        "3d08f85ae40a4985bfe5ce96be1059a6": {
          "model_module": "@jupyter-widgets/base",
          "model_name": "LayoutModel",
          "model_module_version": "1.2.0",
          "state": {
            "_model_module": "@jupyter-widgets/base",
            "_model_module_version": "1.2.0",
            "_model_name": "LayoutModel",
            "_view_count": null,
            "_view_module": "@jupyter-widgets/base",
            "_view_module_version": "1.2.0",
            "_view_name": "LayoutView",
            "align_content": null,
            "align_items": null,
            "align_self": null,
            "border": null,
            "bottom": null,
            "display": null,
            "flex": null,
            "flex_flow": null,
            "grid_area": null,
            "grid_auto_columns": null,
            "grid_auto_flow": null,
            "grid_auto_rows": null,
            "grid_column": null,
            "grid_gap": null,
            "grid_row": null,
            "grid_template_areas": null,
            "grid_template_columns": null,
            "grid_template_rows": null,
            "height": null,
            "justify_content": null,
            "justify_items": null,
            "left": null,
            "margin": null,
            "max_height": null,
            "max_width": null,
            "min_height": null,
            "min_width": null,
            "object_fit": null,
            "object_position": null,
            "order": null,
            "overflow": null,
            "overflow_x": null,
            "overflow_y": null,
            "padding": null,
            "right": null,
            "top": null,
            "visibility": null,
            "width": null
          }
        },
        "8c1236cacd6a4da4b3dd2600216f842f": {
          "model_module": "@jupyter-widgets/base",
          "model_name": "LayoutModel",
          "model_module_version": "1.2.0",
          "state": {
            "_model_module": "@jupyter-widgets/base",
            "_model_module_version": "1.2.0",
            "_model_name": "LayoutModel",
            "_view_count": null,
            "_view_module": "@jupyter-widgets/base",
            "_view_module_version": "1.2.0",
            "_view_name": "LayoutView",
            "align_content": null,
            "align_items": null,
            "align_self": null,
            "border": null,
            "bottom": null,
            "display": null,
            "flex": null,
            "flex_flow": null,
            "grid_area": null,
            "grid_auto_columns": null,
            "grid_auto_flow": null,
            "grid_auto_rows": null,
            "grid_column": null,
            "grid_gap": null,
            "grid_row": null,
            "grid_template_areas": null,
            "grid_template_columns": null,
            "grid_template_rows": null,
            "height": null,
            "justify_content": null,
            "justify_items": null,
            "left": null,
            "margin": null,
            "max_height": null,
            "max_width": null,
            "min_height": null,
            "min_width": null,
            "object_fit": null,
            "object_position": null,
            "order": null,
            "overflow": null,
            "overflow_x": null,
            "overflow_y": null,
            "padding": null,
            "right": null,
            "top": null,
            "visibility": null,
            "width": null
          }
        },
        "cc064bb4a4554627a7f4fd2219e90a7d": {
          "model_module": "@jupyter-widgets/controls",
          "model_name": "DescriptionStyleModel",
          "model_module_version": "1.5.0",
          "state": {
            "_model_module": "@jupyter-widgets/controls",
            "_model_module_version": "1.5.0",
            "_model_name": "DescriptionStyleModel",
            "_view_count": null,
            "_view_module": "@jupyter-widgets/base",
            "_view_module_version": "1.2.0",
            "_view_name": "StyleView",
            "description_width": ""
          }
        },
        "516d87e0158e4dc4a397183b31741cc1": {
          "model_module": "@jupyter-widgets/base",
          "model_name": "LayoutModel",
          "model_module_version": "1.2.0",
          "state": {
            "_model_module": "@jupyter-widgets/base",
            "_model_module_version": "1.2.0",
            "_model_name": "LayoutModel",
            "_view_count": null,
            "_view_module": "@jupyter-widgets/base",
            "_view_module_version": "1.2.0",
            "_view_name": "LayoutView",
            "align_content": null,
            "align_items": null,
            "align_self": null,
            "border": null,
            "bottom": null,
            "display": null,
            "flex": null,
            "flex_flow": null,
            "grid_area": null,
            "grid_auto_columns": null,
            "grid_auto_flow": null,
            "grid_auto_rows": null,
            "grid_column": null,
            "grid_gap": null,
            "grid_row": null,
            "grid_template_areas": null,
            "grid_template_columns": null,
            "grid_template_rows": null,
            "height": null,
            "justify_content": null,
            "justify_items": null,
            "left": null,
            "margin": null,
            "max_height": null,
            "max_width": null,
            "min_height": null,
            "min_width": null,
            "object_fit": null,
            "object_position": null,
            "order": null,
            "overflow": null,
            "overflow_x": null,
            "overflow_y": null,
            "padding": null,
            "right": null,
            "top": null,
            "visibility": null,
            "width": null
          }
        },
        "34c641602aae4be0b0249bc2bd48ad3f": {
          "model_module": "@jupyter-widgets/controls",
          "model_name": "ProgressStyleModel",
          "model_module_version": "1.5.0",
          "state": {
            "_model_module": "@jupyter-widgets/controls",
            "_model_module_version": "1.5.0",
            "_model_name": "ProgressStyleModel",
            "_view_count": null,
            "_view_module": "@jupyter-widgets/base",
            "_view_module_version": "1.2.0",
            "_view_name": "StyleView",
            "bar_color": null,
            "description_width": ""
          }
        },
        "c5f4cebc9e114b089c6aa456b8b30999": {
          "model_module": "@jupyter-widgets/base",
          "model_name": "LayoutModel",
          "model_module_version": "1.2.0",
          "state": {
            "_model_module": "@jupyter-widgets/base",
            "_model_module_version": "1.2.0",
            "_model_name": "LayoutModel",
            "_view_count": null,
            "_view_module": "@jupyter-widgets/base",
            "_view_module_version": "1.2.0",
            "_view_name": "LayoutView",
            "align_content": null,
            "align_items": null,
            "align_self": null,
            "border": null,
            "bottom": null,
            "display": null,
            "flex": null,
            "flex_flow": null,
            "grid_area": null,
            "grid_auto_columns": null,
            "grid_auto_flow": null,
            "grid_auto_rows": null,
            "grid_column": null,
            "grid_gap": null,
            "grid_row": null,
            "grid_template_areas": null,
            "grid_template_columns": null,
            "grid_template_rows": null,
            "height": null,
            "justify_content": null,
            "justify_items": null,
            "left": null,
            "margin": null,
            "max_height": null,
            "max_width": null,
            "min_height": null,
            "min_width": null,
            "object_fit": null,
            "object_position": null,
            "order": null,
            "overflow": null,
            "overflow_x": null,
            "overflow_y": null,
            "padding": null,
            "right": null,
            "top": null,
            "visibility": null,
            "width": null
          }
        },
        "4f3327e7275b4fc6b2205594304600f7": {
          "model_module": "@jupyter-widgets/controls",
          "model_name": "DescriptionStyleModel",
          "model_module_version": "1.5.0",
          "state": {
            "_model_module": "@jupyter-widgets/controls",
            "_model_module_version": "1.5.0",
            "_model_name": "DescriptionStyleModel",
            "_view_count": null,
            "_view_module": "@jupyter-widgets/base",
            "_view_module_version": "1.2.0",
            "_view_name": "StyleView",
            "description_width": ""
          }
        },
        "95007ab84b3b4740995b144fe010573a": {
          "model_module": "@jupyter-widgets/controls",
          "model_name": "HBoxModel",
          "model_module_version": "1.5.0",
          "state": {
            "_dom_classes": [],
            "_model_module": "@jupyter-widgets/controls",
            "_model_module_version": "1.5.0",
            "_model_name": "HBoxModel",
            "_view_count": null,
            "_view_module": "@jupyter-widgets/controls",
            "_view_module_version": "1.5.0",
            "_view_name": "HBoxView",
            "box_style": "",
            "children": [
              "IPY_MODEL_7d490008c1ad4638b4ee1492a5b52700",
              "IPY_MODEL_78f9489b96694b4199c57d7ca5f846aa",
              "IPY_MODEL_c5e69d89da1d448cbbfccbfa2ff1d316"
            ],
            "layout": "IPY_MODEL_8be56fddd72c4912be4d2466ac1f2eb3"
          }
        },
        "7d490008c1ad4638b4ee1492a5b52700": {
          "model_module": "@jupyter-widgets/controls",
          "model_name": "HTMLModel",
          "model_module_version": "1.5.0",
          "state": {
            "_dom_classes": [],
            "_model_module": "@jupyter-widgets/controls",
            "_model_module_version": "1.5.0",
            "_model_name": "HTMLModel",
            "_view_count": null,
            "_view_module": "@jupyter-widgets/controls",
            "_view_module_version": "1.5.0",
            "_view_name": "HTMLView",
            "description": "",
            "description_tooltip": null,
            "layout": "IPY_MODEL_55ece995a66743638431bdf3cfd2b29b",
            "placeholder": "​",
            "style": "IPY_MODEL_a2f5557e3b99410a9a86052e909753d4",
            "value": "config.json: 100%"
          }
        },
        "78f9489b96694b4199c57d7ca5f846aa": {
          "model_module": "@jupyter-widgets/controls",
          "model_name": "FloatProgressModel",
          "model_module_version": "1.5.0",
          "state": {
            "_dom_classes": [],
            "_model_module": "@jupyter-widgets/controls",
            "_model_module_version": "1.5.0",
            "_model_name": "FloatProgressModel",
            "_view_count": null,
            "_view_module": "@jupyter-widgets/controls",
            "_view_module_version": "1.5.0",
            "_view_name": "ProgressView",
            "bar_style": "success",
            "description": "",
            "description_tooltip": null,
            "layout": "IPY_MODEL_358b36a7f7b94971a5d7d78afeaa8eb5",
            "max": 450,
            "min": 0,
            "orientation": "horizontal",
            "style": "IPY_MODEL_c33bcd8c32ba4e7eb9fe24b264786d19",
            "value": 450
          }
        },
        "c5e69d89da1d448cbbfccbfa2ff1d316": {
          "model_module": "@jupyter-widgets/controls",
          "model_name": "HTMLModel",
          "model_module_version": "1.5.0",
          "state": {
            "_dom_classes": [],
            "_model_module": "@jupyter-widgets/controls",
            "_model_module_version": "1.5.0",
            "_model_name": "HTMLModel",
            "_view_count": null,
            "_view_module": "@jupyter-widgets/controls",
            "_view_module_version": "1.5.0",
            "_view_name": "HTMLView",
            "description": "",
            "description_tooltip": null,
            "layout": "IPY_MODEL_82c06d3abdfa40b2ad16683896cdb160",
            "placeholder": "​",
            "style": "IPY_MODEL_f631a9fda39d43539d4348759fc5e18a",
            "value": " 450/450 [00:00&lt;00:00, 5.02kB/s]"
          }
        },
        "8be56fddd72c4912be4d2466ac1f2eb3": {
          "model_module": "@jupyter-widgets/base",
          "model_name": "LayoutModel",
          "model_module_version": "1.2.0",
          "state": {
            "_model_module": "@jupyter-widgets/base",
            "_model_module_version": "1.2.0",
            "_model_name": "LayoutModel",
            "_view_count": null,
            "_view_module": "@jupyter-widgets/base",
            "_view_module_version": "1.2.0",
            "_view_name": "LayoutView",
            "align_content": null,
            "align_items": null,
            "align_self": null,
            "border": null,
            "bottom": null,
            "display": null,
            "flex": null,
            "flex_flow": null,
            "grid_area": null,
            "grid_auto_columns": null,
            "grid_auto_flow": null,
            "grid_auto_rows": null,
            "grid_column": null,
            "grid_gap": null,
            "grid_row": null,
            "grid_template_areas": null,
            "grid_template_columns": null,
            "grid_template_rows": null,
            "height": null,
            "justify_content": null,
            "justify_items": null,
            "left": null,
            "margin": null,
            "max_height": null,
            "max_width": null,
            "min_height": null,
            "min_width": null,
            "object_fit": null,
            "object_position": null,
            "order": null,
            "overflow": null,
            "overflow_x": null,
            "overflow_y": null,
            "padding": null,
            "right": null,
            "top": null,
            "visibility": null,
            "width": null
          }
        },
        "55ece995a66743638431bdf3cfd2b29b": {
          "model_module": "@jupyter-widgets/base",
          "model_name": "LayoutModel",
          "model_module_version": "1.2.0",
          "state": {
            "_model_module": "@jupyter-widgets/base",
            "_model_module_version": "1.2.0",
            "_model_name": "LayoutModel",
            "_view_count": null,
            "_view_module": "@jupyter-widgets/base",
            "_view_module_version": "1.2.0",
            "_view_name": "LayoutView",
            "align_content": null,
            "align_items": null,
            "align_self": null,
            "border": null,
            "bottom": null,
            "display": null,
            "flex": null,
            "flex_flow": null,
            "grid_area": null,
            "grid_auto_columns": null,
            "grid_auto_flow": null,
            "grid_auto_rows": null,
            "grid_column": null,
            "grid_gap": null,
            "grid_row": null,
            "grid_template_areas": null,
            "grid_template_columns": null,
            "grid_template_rows": null,
            "height": null,
            "justify_content": null,
            "justify_items": null,
            "left": null,
            "margin": null,
            "max_height": null,
            "max_width": null,
            "min_height": null,
            "min_width": null,
            "object_fit": null,
            "object_position": null,
            "order": null,
            "overflow": null,
            "overflow_x": null,
            "overflow_y": null,
            "padding": null,
            "right": null,
            "top": null,
            "visibility": null,
            "width": null
          }
        },
        "a2f5557e3b99410a9a86052e909753d4": {
          "model_module": "@jupyter-widgets/controls",
          "model_name": "DescriptionStyleModel",
          "model_module_version": "1.5.0",
          "state": {
            "_model_module": "@jupyter-widgets/controls",
            "_model_module_version": "1.5.0",
            "_model_name": "DescriptionStyleModel",
            "_view_count": null,
            "_view_module": "@jupyter-widgets/base",
            "_view_module_version": "1.2.0",
            "_view_name": "StyleView",
            "description_width": ""
          }
        },
        "358b36a7f7b94971a5d7d78afeaa8eb5": {
          "model_module": "@jupyter-widgets/base",
          "model_name": "LayoutModel",
          "model_module_version": "1.2.0",
          "state": {
            "_model_module": "@jupyter-widgets/base",
            "_model_module_version": "1.2.0",
            "_model_name": "LayoutModel",
            "_view_count": null,
            "_view_module": "@jupyter-widgets/base",
            "_view_module_version": "1.2.0",
            "_view_name": "LayoutView",
            "align_content": null,
            "align_items": null,
            "align_self": null,
            "border": null,
            "bottom": null,
            "display": null,
            "flex": null,
            "flex_flow": null,
            "grid_area": null,
            "grid_auto_columns": null,
            "grid_auto_flow": null,
            "grid_auto_rows": null,
            "grid_column": null,
            "grid_gap": null,
            "grid_row": null,
            "grid_template_areas": null,
            "grid_template_columns": null,
            "grid_template_rows": null,
            "height": null,
            "justify_content": null,
            "justify_items": null,
            "left": null,
            "margin": null,
            "max_height": null,
            "max_width": null,
            "min_height": null,
            "min_width": null,
            "object_fit": null,
            "object_position": null,
            "order": null,
            "overflow": null,
            "overflow_x": null,
            "overflow_y": null,
            "padding": null,
            "right": null,
            "top": null,
            "visibility": null,
            "width": null
          }
        },
        "c33bcd8c32ba4e7eb9fe24b264786d19": {
          "model_module": "@jupyter-widgets/controls",
          "model_name": "ProgressStyleModel",
          "model_module_version": "1.5.0",
          "state": {
            "_model_module": "@jupyter-widgets/controls",
            "_model_module_version": "1.5.0",
            "_model_name": "ProgressStyleModel",
            "_view_count": null,
            "_view_module": "@jupyter-widgets/base",
            "_view_module_version": "1.2.0",
            "_view_name": "StyleView",
            "bar_color": null,
            "description_width": ""
          }
        },
        "82c06d3abdfa40b2ad16683896cdb160": {
          "model_module": "@jupyter-widgets/base",
          "model_name": "LayoutModel",
          "model_module_version": "1.2.0",
          "state": {
            "_model_module": "@jupyter-widgets/base",
            "_model_module_version": "1.2.0",
            "_model_name": "LayoutModel",
            "_view_count": null,
            "_view_module": "@jupyter-widgets/base",
            "_view_module_version": "1.2.0",
            "_view_name": "LayoutView",
            "align_content": null,
            "align_items": null,
            "align_self": null,
            "border": null,
            "bottom": null,
            "display": null,
            "flex": null,
            "flex_flow": null,
            "grid_area": null,
            "grid_auto_columns": null,
            "grid_auto_flow": null,
            "grid_auto_rows": null,
            "grid_column": null,
            "grid_gap": null,
            "grid_row": null,
            "grid_template_areas": null,
            "grid_template_columns": null,
            "grid_template_rows": null,
            "height": null,
            "justify_content": null,
            "justify_items": null,
            "left": null,
            "margin": null,
            "max_height": null,
            "max_width": null,
            "min_height": null,
            "min_width": null,
            "object_fit": null,
            "object_position": null,
            "order": null,
            "overflow": null,
            "overflow_x": null,
            "overflow_y": null,
            "padding": null,
            "right": null,
            "top": null,
            "visibility": null,
            "width": null
          }
        },
        "f631a9fda39d43539d4348759fc5e18a": {
          "model_module": "@jupyter-widgets/controls",
          "model_name": "DescriptionStyleModel",
          "model_module_version": "1.5.0",
          "state": {
            "_model_module": "@jupyter-widgets/controls",
            "_model_module_version": "1.5.0",
            "_model_name": "DescriptionStyleModel",
            "_view_count": null,
            "_view_module": "@jupyter-widgets/base",
            "_view_module_version": "1.2.0",
            "_view_name": "StyleView",
            "description_width": ""
          }
        },
        "cc36e8ac5c7e4d289dea28446cd37beb": {
          "model_module": "@jupyter-widgets/controls",
          "model_name": "HBoxModel",
          "model_module_version": "1.5.0",
          "state": {
            "_dom_classes": [],
            "_model_module": "@jupyter-widgets/controls",
            "_model_module_version": "1.5.0",
            "_model_name": "HBoxModel",
            "_view_count": null,
            "_view_module": "@jupyter-widgets/controls",
            "_view_module_version": "1.5.0",
            "_view_name": "HBoxView",
            "box_style": "",
            "children": [
              "IPY_MODEL_3729ebac7e3e448d99f365923a76901b",
              "IPY_MODEL_f26ca72489c6405085c6ef46dff7cd56",
              "IPY_MODEL_7ff91bf381dd4aa1826903c67417bb5e"
            ],
            "layout": "IPY_MODEL_e9b529d3d718403da7192f24e257d529"
          }
        },
        "3729ebac7e3e448d99f365923a76901b": {
          "model_module": "@jupyter-widgets/controls",
          "model_name": "HTMLModel",
          "model_module_version": "1.5.0",
          "state": {
            "_dom_classes": [],
            "_model_module": "@jupyter-widgets/controls",
            "_model_module_version": "1.5.0",
            "_model_name": "HTMLModel",
            "_view_count": null,
            "_view_module": "@jupyter-widgets/controls",
            "_view_module_version": "1.5.0",
            "_view_name": "HTMLView",
            "description": "",
            "description_tooltip": null,
            "layout": "IPY_MODEL_a7821bf3f26f4ee9a682c1999188411a",
            "placeholder": "​",
            "style": "IPY_MODEL_528fc3077d93488b924c7f039668ea3f",
            "value": "pytorch_model.bin: 100%"
          }
        },
        "f26ca72489c6405085c6ef46dff7cd56": {
          "model_module": "@jupyter-widgets/controls",
          "model_name": "FloatProgressModel",
          "model_module_version": "1.5.0",
          "state": {
            "_dom_classes": [],
            "_model_module": "@jupyter-widgets/controls",
            "_model_module_version": "1.5.0",
            "_model_name": "FloatProgressModel",
            "_view_count": null,
            "_view_module": "@jupyter-widgets/controls",
            "_view_module_version": "1.5.0",
            "_view_name": "ProgressView",
            "bar_style": "success",
            "description": "",
            "description_tooltip": null,
            "layout": "IPY_MODEL_bd048ffe104e4e8c8e9e42d0ed03c61c",
            "max": 435820470,
            "min": 0,
            "orientation": "horizontal",
            "style": "IPY_MODEL_ae7d5d15ed7a4db4874a4538dfdd24b0",
            "value": 435820470
          }
        },
        "7ff91bf381dd4aa1826903c67417bb5e": {
          "model_module": "@jupyter-widgets/controls",
          "model_name": "HTMLModel",
          "model_module_version": "1.5.0",
          "state": {
            "_dom_classes": [],
            "_model_module": "@jupyter-widgets/controls",
            "_model_module_version": "1.5.0",
            "_model_name": "HTMLModel",
            "_view_count": null,
            "_view_module": "@jupyter-widgets/controls",
            "_view_module_version": "1.5.0",
            "_view_name": "HTMLView",
            "description": "",
            "description_tooltip": null,
            "layout": "IPY_MODEL_686f0444a9b74e0885dff2e14d79f6c7",
            "placeholder": "​",
            "style": "IPY_MODEL_e4b47387bb974c74a29dafb48f638f8a",
            "value": " 436M/436M [00:06&lt;00:00, 96.6MB/s]"
          }
        },
        "e9b529d3d718403da7192f24e257d529": {
          "model_module": "@jupyter-widgets/base",
          "model_name": "LayoutModel",
          "model_module_version": "1.2.0",
          "state": {
            "_model_module": "@jupyter-widgets/base",
            "_model_module_version": "1.2.0",
            "_model_name": "LayoutModel",
            "_view_count": null,
            "_view_module": "@jupyter-widgets/base",
            "_view_module_version": "1.2.0",
            "_view_name": "LayoutView",
            "align_content": null,
            "align_items": null,
            "align_self": null,
            "border": null,
            "bottom": null,
            "display": null,
            "flex": null,
            "flex_flow": null,
            "grid_area": null,
            "grid_auto_columns": null,
            "grid_auto_flow": null,
            "grid_auto_rows": null,
            "grid_column": null,
            "grid_gap": null,
            "grid_row": null,
            "grid_template_areas": null,
            "grid_template_columns": null,
            "grid_template_rows": null,
            "height": null,
            "justify_content": null,
            "justify_items": null,
            "left": null,
            "margin": null,
            "max_height": null,
            "max_width": null,
            "min_height": null,
            "min_width": null,
            "object_fit": null,
            "object_position": null,
            "order": null,
            "overflow": null,
            "overflow_x": null,
            "overflow_y": null,
            "padding": null,
            "right": null,
            "top": null,
            "visibility": null,
            "width": null
          }
        },
        "a7821bf3f26f4ee9a682c1999188411a": {
          "model_module": "@jupyter-widgets/base",
          "model_name": "LayoutModel",
          "model_module_version": "1.2.0",
          "state": {
            "_model_module": "@jupyter-widgets/base",
            "_model_module_version": "1.2.0",
            "_model_name": "LayoutModel",
            "_view_count": null,
            "_view_module": "@jupyter-widgets/base",
            "_view_module_version": "1.2.0",
            "_view_name": "LayoutView",
            "align_content": null,
            "align_items": null,
            "align_self": null,
            "border": null,
            "bottom": null,
            "display": null,
            "flex": null,
            "flex_flow": null,
            "grid_area": null,
            "grid_auto_columns": null,
            "grid_auto_flow": null,
            "grid_auto_rows": null,
            "grid_column": null,
            "grid_gap": null,
            "grid_row": null,
            "grid_template_areas": null,
            "grid_template_columns": null,
            "grid_template_rows": null,
            "height": null,
            "justify_content": null,
            "justify_items": null,
            "left": null,
            "margin": null,
            "max_height": null,
            "max_width": null,
            "min_height": null,
            "min_width": null,
            "object_fit": null,
            "object_position": null,
            "order": null,
            "overflow": null,
            "overflow_x": null,
            "overflow_y": null,
            "padding": null,
            "right": null,
            "top": null,
            "visibility": null,
            "width": null
          }
        },
        "528fc3077d93488b924c7f039668ea3f": {
          "model_module": "@jupyter-widgets/controls",
          "model_name": "DescriptionStyleModel",
          "model_module_version": "1.5.0",
          "state": {
            "_model_module": "@jupyter-widgets/controls",
            "_model_module_version": "1.5.0",
            "_model_name": "DescriptionStyleModel",
            "_view_count": null,
            "_view_module": "@jupyter-widgets/base",
            "_view_module_version": "1.2.0",
            "_view_name": "StyleView",
            "description_width": ""
          }
        },
        "bd048ffe104e4e8c8e9e42d0ed03c61c": {
          "model_module": "@jupyter-widgets/base",
          "model_name": "LayoutModel",
          "model_module_version": "1.2.0",
          "state": {
            "_model_module": "@jupyter-widgets/base",
            "_model_module_version": "1.2.0",
            "_model_name": "LayoutModel",
            "_view_count": null,
            "_view_module": "@jupyter-widgets/base",
            "_view_module_version": "1.2.0",
            "_view_name": "LayoutView",
            "align_content": null,
            "align_items": null,
            "align_self": null,
            "border": null,
            "bottom": null,
            "display": null,
            "flex": null,
            "flex_flow": null,
            "grid_area": null,
            "grid_auto_columns": null,
            "grid_auto_flow": null,
            "grid_auto_rows": null,
            "grid_column": null,
            "grid_gap": null,
            "grid_row": null,
            "grid_template_areas": null,
            "grid_template_columns": null,
            "grid_template_rows": null,
            "height": null,
            "justify_content": null,
            "justify_items": null,
            "left": null,
            "margin": null,
            "max_height": null,
            "max_width": null,
            "min_height": null,
            "min_width": null,
            "object_fit": null,
            "object_position": null,
            "order": null,
            "overflow": null,
            "overflow_x": null,
            "overflow_y": null,
            "padding": null,
            "right": null,
            "top": null,
            "visibility": null,
            "width": null
          }
        },
        "ae7d5d15ed7a4db4874a4538dfdd24b0": {
          "model_module": "@jupyter-widgets/controls",
          "model_name": "ProgressStyleModel",
          "model_module_version": "1.5.0",
          "state": {
            "_model_module": "@jupyter-widgets/controls",
            "_model_module_version": "1.5.0",
            "_model_name": "ProgressStyleModel",
            "_view_count": null,
            "_view_module": "@jupyter-widgets/base",
            "_view_module_version": "1.2.0",
            "_view_name": "StyleView",
            "bar_color": null,
            "description_width": ""
          }
        },
        "686f0444a9b74e0885dff2e14d79f6c7": {
          "model_module": "@jupyter-widgets/base",
          "model_name": "LayoutModel",
          "model_module_version": "1.2.0",
          "state": {
            "_model_module": "@jupyter-widgets/base",
            "_model_module_version": "1.2.0",
            "_model_name": "LayoutModel",
            "_view_count": null,
            "_view_module": "@jupyter-widgets/base",
            "_view_module_version": "1.2.0",
            "_view_name": "LayoutView",
            "align_content": null,
            "align_items": null,
            "align_self": null,
            "border": null,
            "bottom": null,
            "display": null,
            "flex": null,
            "flex_flow": null,
            "grid_area": null,
            "grid_auto_columns": null,
            "grid_auto_flow": null,
            "grid_auto_rows": null,
            "grid_column": null,
            "grid_gap": null,
            "grid_row": null,
            "grid_template_areas": null,
            "grid_template_columns": null,
            "grid_template_rows": null,
            "height": null,
            "justify_content": null,
            "justify_items": null,
            "left": null,
            "margin": null,
            "max_height": null,
            "max_width": null,
            "min_height": null,
            "min_width": null,
            "object_fit": null,
            "object_position": null,
            "order": null,
            "overflow": null,
            "overflow_x": null,
            "overflow_y": null,
            "padding": null,
            "right": null,
            "top": null,
            "visibility": null,
            "width": null
          }
        },
        "e4b47387bb974c74a29dafb48f638f8a": {
          "model_module": "@jupyter-widgets/controls",
          "model_name": "DescriptionStyleModel",
          "model_module_version": "1.5.0",
          "state": {
            "_model_module": "@jupyter-widgets/controls",
            "_model_module_version": "1.5.0",
            "_model_name": "DescriptionStyleModel",
            "_view_count": null,
            "_view_module": "@jupyter-widgets/base",
            "_view_module_version": "1.2.0",
            "_view_name": "StyleView",
            "description_width": ""
          }
        },
        "f4a096df560b4afd97ee39b56b32dbe7": {
          "model_module": "@jupyter-widgets/controls",
          "model_name": "HBoxModel",
          "model_module_version": "1.5.0",
          "state": {
            "_dom_classes": [],
            "_model_module": "@jupyter-widgets/controls",
            "_model_module_version": "1.5.0",
            "_model_name": "HBoxModel",
            "_view_count": null,
            "_view_module": "@jupyter-widgets/controls",
            "_view_module_version": "1.5.0",
            "_view_name": "HBoxView",
            "box_style": "",
            "children": [
              "IPY_MODEL_2bf70e460d6f49ffa3fb514f84d33547",
              "IPY_MODEL_96ccf7641ba9455fa2eb9ed20309bcff",
              "IPY_MODEL_800143ebd5f44da49df6154ee91f0e47"
            ],
            "layout": "IPY_MODEL_b67b381f9a024da19a4e6125011654e0"
          }
        },
        "2bf70e460d6f49ffa3fb514f84d33547": {
          "model_module": "@jupyter-widgets/controls",
          "model_name": "HTMLModel",
          "model_module_version": "1.5.0",
          "state": {
            "_dom_classes": [],
            "_model_module": "@jupyter-widgets/controls",
            "_model_module_version": "1.5.0",
            "_model_name": "HTMLModel",
            "_view_count": null,
            "_view_module": "@jupyter-widgets/controls",
            "_view_module_version": "1.5.0",
            "_view_name": "HTMLView",
            "description": "",
            "description_tooltip": null,
            "layout": "IPY_MODEL_059c58de8d894018bd7c8e4fc1e06748",
            "placeholder": "​",
            "style": "IPY_MODEL_1eb7ed3e6fc04230850ba9f447e86abf",
            "value": "vocab.txt: 100%"
          }
        },
        "96ccf7641ba9455fa2eb9ed20309bcff": {
          "model_module": "@jupyter-widgets/controls",
          "model_name": "FloatProgressModel",
          "model_module_version": "1.5.0",
          "state": {
            "_dom_classes": [],
            "_model_module": "@jupyter-widgets/controls",
            "_model_module_version": "1.5.0",
            "_model_name": "FloatProgressModel",
            "_view_count": null,
            "_view_module": "@jupyter-widgets/controls",
            "_view_module_version": "1.5.0",
            "_view_name": "ProgressView",
            "bar_style": "success",
            "description": "",
            "description_tooltip": null,
            "layout": "IPY_MODEL_bd06e96f49874a6ca95956080aa8c538",
            "max": 1780720,
            "min": 0,
            "orientation": "horizontal",
            "style": "IPY_MODEL_eeb40c8aacb94750a1efe76e92fd804a",
            "value": 1780720
          }
        },
        "800143ebd5f44da49df6154ee91f0e47": {
          "model_module": "@jupyter-widgets/controls",
          "model_name": "HTMLModel",
          "model_module_version": "1.5.0",
          "state": {
            "_dom_classes": [],
            "_model_module": "@jupyter-widgets/controls",
            "_model_module_version": "1.5.0",
            "_model_name": "HTMLModel",
            "_view_count": null,
            "_view_module": "@jupyter-widgets/controls",
            "_view_module_version": "1.5.0",
            "_view_name": "HTMLView",
            "description": "",
            "description_tooltip": null,
            "layout": "IPY_MODEL_3fc18506bbe842ae827297c5450163d2",
            "placeholder": "​",
            "style": "IPY_MODEL_90c17d06c946490dbd56a1b813cd0d2f",
            "value": " 1.78M/1.78M [00:00&lt;00:00, 7.99MB/s]"
          }
        },
        "b67b381f9a024da19a4e6125011654e0": {
          "model_module": "@jupyter-widgets/base",
          "model_name": "LayoutModel",
          "model_module_version": "1.2.0",
          "state": {
            "_model_module": "@jupyter-widgets/base",
            "_model_module_version": "1.2.0",
            "_model_name": "LayoutModel",
            "_view_count": null,
            "_view_module": "@jupyter-widgets/base",
            "_view_module_version": "1.2.0",
            "_view_name": "LayoutView",
            "align_content": null,
            "align_items": null,
            "align_self": null,
            "border": null,
            "bottom": null,
            "display": null,
            "flex": null,
            "flex_flow": null,
            "grid_area": null,
            "grid_auto_columns": null,
            "grid_auto_flow": null,
            "grid_auto_rows": null,
            "grid_column": null,
            "grid_gap": null,
            "grid_row": null,
            "grid_template_areas": null,
            "grid_template_columns": null,
            "grid_template_rows": null,
            "height": null,
            "justify_content": null,
            "justify_items": null,
            "left": null,
            "margin": null,
            "max_height": null,
            "max_width": null,
            "min_height": null,
            "min_width": null,
            "object_fit": null,
            "object_position": null,
            "order": null,
            "overflow": null,
            "overflow_x": null,
            "overflow_y": null,
            "padding": null,
            "right": null,
            "top": null,
            "visibility": null,
            "width": null
          }
        },
        "059c58de8d894018bd7c8e4fc1e06748": {
          "model_module": "@jupyter-widgets/base",
          "model_name": "LayoutModel",
          "model_module_version": "1.2.0",
          "state": {
            "_model_module": "@jupyter-widgets/base",
            "_model_module_version": "1.2.0",
            "_model_name": "LayoutModel",
            "_view_count": null,
            "_view_module": "@jupyter-widgets/base",
            "_view_module_version": "1.2.0",
            "_view_name": "LayoutView",
            "align_content": null,
            "align_items": null,
            "align_self": null,
            "border": null,
            "bottom": null,
            "display": null,
            "flex": null,
            "flex_flow": null,
            "grid_area": null,
            "grid_auto_columns": null,
            "grid_auto_flow": null,
            "grid_auto_rows": null,
            "grid_column": null,
            "grid_gap": null,
            "grid_row": null,
            "grid_template_areas": null,
            "grid_template_columns": null,
            "grid_template_rows": null,
            "height": null,
            "justify_content": null,
            "justify_items": null,
            "left": null,
            "margin": null,
            "max_height": null,
            "max_width": null,
            "min_height": null,
            "min_width": null,
            "object_fit": null,
            "object_position": null,
            "order": null,
            "overflow": null,
            "overflow_x": null,
            "overflow_y": null,
            "padding": null,
            "right": null,
            "top": null,
            "visibility": null,
            "width": null
          }
        },
        "1eb7ed3e6fc04230850ba9f447e86abf": {
          "model_module": "@jupyter-widgets/controls",
          "model_name": "DescriptionStyleModel",
          "model_module_version": "1.5.0",
          "state": {
            "_model_module": "@jupyter-widgets/controls",
            "_model_module_version": "1.5.0",
            "_model_name": "DescriptionStyleModel",
            "_view_count": null,
            "_view_module": "@jupyter-widgets/base",
            "_view_module_version": "1.2.0",
            "_view_name": "StyleView",
            "description_width": ""
          }
        },
        "bd06e96f49874a6ca95956080aa8c538": {
          "model_module": "@jupyter-widgets/base",
          "model_name": "LayoutModel",
          "model_module_version": "1.2.0",
          "state": {
            "_model_module": "@jupyter-widgets/base",
            "_model_module_version": "1.2.0",
            "_model_name": "LayoutModel",
            "_view_count": null,
            "_view_module": "@jupyter-widgets/base",
            "_view_module_version": "1.2.0",
            "_view_name": "LayoutView",
            "align_content": null,
            "align_items": null,
            "align_self": null,
            "border": null,
            "bottom": null,
            "display": null,
            "flex": null,
            "flex_flow": null,
            "grid_area": null,
            "grid_auto_columns": null,
            "grid_auto_flow": null,
            "grid_auto_rows": null,
            "grid_column": null,
            "grid_gap": null,
            "grid_row": null,
            "grid_template_areas": null,
            "grid_template_columns": null,
            "grid_template_rows": null,
            "height": null,
            "justify_content": null,
            "justify_items": null,
            "left": null,
            "margin": null,
            "max_height": null,
            "max_width": null,
            "min_height": null,
            "min_width": null,
            "object_fit": null,
            "object_position": null,
            "order": null,
            "overflow": null,
            "overflow_x": null,
            "overflow_y": null,
            "padding": null,
            "right": null,
            "top": null,
            "visibility": null,
            "width": null
          }
        },
        "eeb40c8aacb94750a1efe76e92fd804a": {
          "model_module": "@jupyter-widgets/controls",
          "model_name": "ProgressStyleModel",
          "model_module_version": "1.5.0",
          "state": {
            "_model_module": "@jupyter-widgets/controls",
            "_model_module_version": "1.5.0",
            "_model_name": "ProgressStyleModel",
            "_view_count": null,
            "_view_module": "@jupyter-widgets/base",
            "_view_module_version": "1.2.0",
            "_view_name": "StyleView",
            "bar_color": null,
            "description_width": ""
          }
        },
        "3fc18506bbe842ae827297c5450163d2": {
          "model_module": "@jupyter-widgets/base",
          "model_name": "LayoutModel",
          "model_module_version": "1.2.0",
          "state": {
            "_model_module": "@jupyter-widgets/base",
            "_model_module_version": "1.2.0",
            "_model_name": "LayoutModel",
            "_view_count": null,
            "_view_module": "@jupyter-widgets/base",
            "_view_module_version": "1.2.0",
            "_view_name": "LayoutView",
            "align_content": null,
            "align_items": null,
            "align_self": null,
            "border": null,
            "bottom": null,
            "display": null,
            "flex": null,
            "flex_flow": null,
            "grid_area": null,
            "grid_auto_columns": null,
            "grid_auto_flow": null,
            "grid_auto_rows": null,
            "grid_column": null,
            "grid_gap": null,
            "grid_row": null,
            "grid_template_areas": null,
            "grid_template_columns": null,
            "grid_template_rows": null,
            "height": null,
            "justify_content": null,
            "justify_items": null,
            "left": null,
            "margin": null,
            "max_height": null,
            "max_width": null,
            "min_height": null,
            "min_width": null,
            "object_fit": null,
            "object_position": null,
            "order": null,
            "overflow": null,
            "overflow_x": null,
            "overflow_y": null,
            "padding": null,
            "right": null,
            "top": null,
            "visibility": null,
            "width": null
          }
        },
        "90c17d06c946490dbd56a1b813cd0d2f": {
          "model_module": "@jupyter-widgets/controls",
          "model_name": "DescriptionStyleModel",
          "model_module_version": "1.5.0",
          "state": {
            "_model_module": "@jupyter-widgets/controls",
            "_model_module_version": "1.5.0",
            "_model_name": "DescriptionStyleModel",
            "_view_count": null,
            "_view_module": "@jupyter-widgets/base",
            "_view_module_version": "1.2.0",
            "_view_name": "StyleView",
            "description_width": ""
          }
        },
        "76489c7ec0de461c990232491373dc38": {
          "model_module": "@jupyter-widgets/controls",
          "model_name": "HBoxModel",
          "model_module_version": "1.5.0",
          "state": {
            "_dom_classes": [],
            "_model_module": "@jupyter-widgets/controls",
            "_model_module_version": "1.5.0",
            "_model_name": "HBoxModel",
            "_view_count": null,
            "_view_module": "@jupyter-widgets/controls",
            "_view_module_version": "1.5.0",
            "_view_name": "HBoxView",
            "box_style": "",
            "children": [
              "IPY_MODEL_482cb3edb2994dff80e34b4a82d27e74",
              "IPY_MODEL_277cb3a00151403dbce1fbba3dc597cc",
              "IPY_MODEL_df869ea9db854b81923fe588fa34b85d"
            ],
            "layout": "IPY_MODEL_494803f3247744428904c2ccc9144adb"
          }
        },
        "482cb3edb2994dff80e34b4a82d27e74": {
          "model_module": "@jupyter-widgets/controls",
          "model_name": "HTMLModel",
          "model_module_version": "1.5.0",
          "state": {
            "_dom_classes": [],
            "_model_module": "@jupyter-widgets/controls",
            "_model_module_version": "1.5.0",
            "_model_name": "HTMLModel",
            "_view_count": null,
            "_view_module": "@jupyter-widgets/controls",
            "_view_module_version": "1.5.0",
            "_view_name": "HTMLView",
            "description": "",
            "description_tooltip": null,
            "layout": "IPY_MODEL_26234a7f2425404db8f209678c9290f0",
            "placeholder": "​",
            "style": "IPY_MODEL_685809a0c21a42d5a43fd6edb9c4f7ae",
            "value": "config.json: 100%"
          }
        },
        "277cb3a00151403dbce1fbba3dc597cc": {
          "model_module": "@jupyter-widgets/controls",
          "model_name": "FloatProgressModel",
          "model_module_version": "1.5.0",
          "state": {
            "_dom_classes": [],
            "_model_module": "@jupyter-widgets/controls",
            "_model_module_version": "1.5.0",
            "_model_name": "FloatProgressModel",
            "_view_count": null,
            "_view_module": "@jupyter-widgets/controls",
            "_view_module_version": "1.5.0",
            "_view_name": "ProgressView",
            "bar_style": "success",
            "description": "",
            "description_tooltip": null,
            "layout": "IPY_MODEL_e25611cbb59a4684b7a3523b39a383d7",
            "max": 590,
            "min": 0,
            "orientation": "horizontal",
            "style": "IPY_MODEL_a6127aa5217249838166a9f2322001f6",
            "value": 590
          }
        },
        "df869ea9db854b81923fe588fa34b85d": {
          "model_module": "@jupyter-widgets/controls",
          "model_name": "HTMLModel",
          "model_module_version": "1.5.0",
          "state": {
            "_dom_classes": [],
            "_model_module": "@jupyter-widgets/controls",
            "_model_module_version": "1.5.0",
            "_model_name": "HTMLModel",
            "_view_count": null,
            "_view_module": "@jupyter-widgets/controls",
            "_view_module_version": "1.5.0",
            "_view_name": "HTMLView",
            "description": "",
            "description_tooltip": null,
            "layout": "IPY_MODEL_943cf5d6bd674552b5b23c72de0995d8",
            "placeholder": "​",
            "style": "IPY_MODEL_57719c8b3da2409aae63b3841d2f6590",
            "value": " 590/590 [00:00&lt;00:00, 20.8kB/s]"
          }
        },
        "494803f3247744428904c2ccc9144adb": {
          "model_module": "@jupyter-widgets/base",
          "model_name": "LayoutModel",
          "model_module_version": "1.2.0",
          "state": {
            "_model_module": "@jupyter-widgets/base",
            "_model_module_version": "1.2.0",
            "_model_name": "LayoutModel",
            "_view_count": null,
            "_view_module": "@jupyter-widgets/base",
            "_view_module_version": "1.2.0",
            "_view_name": "LayoutView",
            "align_content": null,
            "align_items": null,
            "align_self": null,
            "border": null,
            "bottom": null,
            "display": null,
            "flex": null,
            "flex_flow": null,
            "grid_area": null,
            "grid_auto_columns": null,
            "grid_auto_flow": null,
            "grid_auto_rows": null,
            "grid_column": null,
            "grid_gap": null,
            "grid_row": null,
            "grid_template_areas": null,
            "grid_template_columns": null,
            "grid_template_rows": null,
            "height": null,
            "justify_content": null,
            "justify_items": null,
            "left": null,
            "margin": null,
            "max_height": null,
            "max_width": null,
            "min_height": null,
            "min_width": null,
            "object_fit": null,
            "object_position": null,
            "order": null,
            "overflow": null,
            "overflow_x": null,
            "overflow_y": null,
            "padding": null,
            "right": null,
            "top": null,
            "visibility": null,
            "width": null
          }
        },
        "26234a7f2425404db8f209678c9290f0": {
          "model_module": "@jupyter-widgets/base",
          "model_name": "LayoutModel",
          "model_module_version": "1.2.0",
          "state": {
            "_model_module": "@jupyter-widgets/base",
            "_model_module_version": "1.2.0",
            "_model_name": "LayoutModel",
            "_view_count": null,
            "_view_module": "@jupyter-widgets/base",
            "_view_module_version": "1.2.0",
            "_view_name": "LayoutView",
            "align_content": null,
            "align_items": null,
            "align_self": null,
            "border": null,
            "bottom": null,
            "display": null,
            "flex": null,
            "flex_flow": null,
            "grid_area": null,
            "grid_auto_columns": null,
            "grid_auto_flow": null,
            "grid_auto_rows": null,
            "grid_column": null,
            "grid_gap": null,
            "grid_row": null,
            "grid_template_areas": null,
            "grid_template_columns": null,
            "grid_template_rows": null,
            "height": null,
            "justify_content": null,
            "justify_items": null,
            "left": null,
            "margin": null,
            "max_height": null,
            "max_width": null,
            "min_height": null,
            "min_width": null,
            "object_fit": null,
            "object_position": null,
            "order": null,
            "overflow": null,
            "overflow_x": null,
            "overflow_y": null,
            "padding": null,
            "right": null,
            "top": null,
            "visibility": null,
            "width": null
          }
        },
        "685809a0c21a42d5a43fd6edb9c4f7ae": {
          "model_module": "@jupyter-widgets/controls",
          "model_name": "DescriptionStyleModel",
          "model_module_version": "1.5.0",
          "state": {
            "_model_module": "@jupyter-widgets/controls",
            "_model_module_version": "1.5.0",
            "_model_name": "DescriptionStyleModel",
            "_view_count": null,
            "_view_module": "@jupyter-widgets/base",
            "_view_module_version": "1.2.0",
            "_view_name": "StyleView",
            "description_width": ""
          }
        },
        "e25611cbb59a4684b7a3523b39a383d7": {
          "model_module": "@jupyter-widgets/base",
          "model_name": "LayoutModel",
          "model_module_version": "1.2.0",
          "state": {
            "_model_module": "@jupyter-widgets/base",
            "_model_module_version": "1.2.0",
            "_model_name": "LayoutModel",
            "_view_count": null,
            "_view_module": "@jupyter-widgets/base",
            "_view_module_version": "1.2.0",
            "_view_name": "LayoutView",
            "align_content": null,
            "align_items": null,
            "align_self": null,
            "border": null,
            "bottom": null,
            "display": null,
            "flex": null,
            "flex_flow": null,
            "grid_area": null,
            "grid_auto_columns": null,
            "grid_auto_flow": null,
            "grid_auto_rows": null,
            "grid_column": null,
            "grid_gap": null,
            "grid_row": null,
            "grid_template_areas": null,
            "grid_template_columns": null,
            "grid_template_rows": null,
            "height": null,
            "justify_content": null,
            "justify_items": null,
            "left": null,
            "margin": null,
            "max_height": null,
            "max_width": null,
            "min_height": null,
            "min_width": null,
            "object_fit": null,
            "object_position": null,
            "order": null,
            "overflow": null,
            "overflow_x": null,
            "overflow_y": null,
            "padding": null,
            "right": null,
            "top": null,
            "visibility": null,
            "width": null
          }
        },
        "a6127aa5217249838166a9f2322001f6": {
          "model_module": "@jupyter-widgets/controls",
          "model_name": "ProgressStyleModel",
          "model_module_version": "1.5.0",
          "state": {
            "_model_module": "@jupyter-widgets/controls",
            "_model_module_version": "1.5.0",
            "_model_name": "ProgressStyleModel",
            "_view_count": null,
            "_view_module": "@jupyter-widgets/base",
            "_view_module_version": "1.2.0",
            "_view_name": "StyleView",
            "bar_color": null,
            "description_width": ""
          }
        },
        "943cf5d6bd674552b5b23c72de0995d8": {
          "model_module": "@jupyter-widgets/base",
          "model_name": "LayoutModel",
          "model_module_version": "1.2.0",
          "state": {
            "_model_module": "@jupyter-widgets/base",
            "_model_module_version": "1.2.0",
            "_model_name": "LayoutModel",
            "_view_count": null,
            "_view_module": "@jupyter-widgets/base",
            "_view_module_version": "1.2.0",
            "_view_name": "LayoutView",
            "align_content": null,
            "align_items": null,
            "align_self": null,
            "border": null,
            "bottom": null,
            "display": null,
            "flex": null,
            "flex_flow": null,
            "grid_area": null,
            "grid_auto_columns": null,
            "grid_auto_flow": null,
            "grid_auto_rows": null,
            "grid_column": null,
            "grid_gap": null,
            "grid_row": null,
            "grid_template_areas": null,
            "grid_template_columns": null,
            "grid_template_rows": null,
            "height": null,
            "justify_content": null,
            "justify_items": null,
            "left": null,
            "margin": null,
            "max_height": null,
            "max_width": null,
            "min_height": null,
            "min_width": null,
            "object_fit": null,
            "object_position": null,
            "order": null,
            "overflow": null,
            "overflow_x": null,
            "overflow_y": null,
            "padding": null,
            "right": null,
            "top": null,
            "visibility": null,
            "width": null
          }
        },
        "57719c8b3da2409aae63b3841d2f6590": {
          "model_module": "@jupyter-widgets/controls",
          "model_name": "DescriptionStyleModel",
          "model_module_version": "1.5.0",
          "state": {
            "_model_module": "@jupyter-widgets/controls",
            "_model_module_version": "1.5.0",
            "_model_name": "DescriptionStyleModel",
            "_view_count": null,
            "_view_module": "@jupyter-widgets/base",
            "_view_module_version": "1.2.0",
            "_view_name": "StyleView",
            "description_width": ""
          }
        },
        "c63549a86d954c6dbbb539d4f8dcd3b4": {
          "model_module": "@jupyter-widgets/controls",
          "model_name": "HBoxModel",
          "model_module_version": "1.5.0",
          "state": {
            "_dom_classes": [],
            "_model_module": "@jupyter-widgets/controls",
            "_model_module_version": "1.5.0",
            "_model_name": "HBoxModel",
            "_view_count": null,
            "_view_module": "@jupyter-widgets/controls",
            "_view_module_version": "1.5.0",
            "_view_name": "HBoxView",
            "box_style": "",
            "children": [
              "IPY_MODEL_f56f664ff0c4451e9cf8ad7404a96e00",
              "IPY_MODEL_bef13b91530748febc81d4292a7b19ac",
              "IPY_MODEL_481fffd5eaba4d3ea3119cea7e8e153a"
            ],
            "layout": "IPY_MODEL_849c892ed20e49ef90936fb10b8a019c"
          }
        },
        "f56f664ff0c4451e9cf8ad7404a96e00": {
          "model_module": "@jupyter-widgets/controls",
          "model_name": "HTMLModel",
          "model_module_version": "1.5.0",
          "state": {
            "_dom_classes": [],
            "_model_module": "@jupyter-widgets/controls",
            "_model_module_version": "1.5.0",
            "_model_name": "HTMLModel",
            "_view_count": null,
            "_view_module": "@jupyter-widgets/controls",
            "_view_module_version": "1.5.0",
            "_view_name": "HTMLView",
            "description": "",
            "description_tooltip": null,
            "layout": "IPY_MODEL_07cce581683c434a9535ebda076b525c",
            "placeholder": "​",
            "style": "IPY_MODEL_bed49392edaa4d218396bbae359853c8",
            "value": "pytorch_model.bin: 100%"
          }
        },
        "bef13b91530748febc81d4292a7b19ac": {
          "model_module": "@jupyter-widgets/controls",
          "model_name": "FloatProgressModel",
          "model_module_version": "1.5.0",
          "state": {
            "_dom_classes": [],
            "_model_module": "@jupyter-widgets/controls",
            "_model_module_version": "1.5.0",
            "_model_name": "FloatProgressModel",
            "_view_count": null,
            "_view_module": "@jupyter-widgets/controls",
            "_view_module_version": "1.5.0",
            "_view_name": "ProgressView",
            "bar_style": "success",
            "description": "",
            "description_tooltip": null,
            "layout": "IPY_MODEL_f4ffb5999ca34c6389a2e88cf9ae4506",
            "max": 716133354,
            "min": 0,
            "orientation": "horizontal",
            "style": "IPY_MODEL_b4858dea776144ffb4372c289cbc00a1",
            "value": 716133354
          }
        },
        "481fffd5eaba4d3ea3119cea7e8e153a": {
          "model_module": "@jupyter-widgets/controls",
          "model_name": "HTMLModel",
          "model_module_version": "1.5.0",
          "state": {
            "_dom_classes": [],
            "_model_module": "@jupyter-widgets/controls",
            "_model_module_version": "1.5.0",
            "_model_name": "HTMLModel",
            "_view_count": null,
            "_view_module": "@jupyter-widgets/controls",
            "_view_module_version": "1.5.0",
            "_view_name": "HTMLView",
            "description": "",
            "description_tooltip": null,
            "layout": "IPY_MODEL_519ce5b4bc4049ec930ad09e8bace71f",
            "placeholder": "​",
            "style": "IPY_MODEL_bb723a5bfce0410d8d16e3d67ac4a02b",
            "value": " 716M/716M [00:08&lt;00:00, 14.7MB/s]"
          }
        },
        "849c892ed20e49ef90936fb10b8a019c": {
          "model_module": "@jupyter-widgets/base",
          "model_name": "LayoutModel",
          "model_module_version": "1.2.0",
          "state": {
            "_model_module": "@jupyter-widgets/base",
            "_model_module_version": "1.2.0",
            "_model_name": "LayoutModel",
            "_view_count": null,
            "_view_module": "@jupyter-widgets/base",
            "_view_module_version": "1.2.0",
            "_view_name": "LayoutView",
            "align_content": null,
            "align_items": null,
            "align_self": null,
            "border": null,
            "bottom": null,
            "display": null,
            "flex": null,
            "flex_flow": null,
            "grid_area": null,
            "grid_auto_columns": null,
            "grid_auto_flow": null,
            "grid_auto_rows": null,
            "grid_column": null,
            "grid_gap": null,
            "grid_row": null,
            "grid_template_areas": null,
            "grid_template_columns": null,
            "grid_template_rows": null,
            "height": null,
            "justify_content": null,
            "justify_items": null,
            "left": null,
            "margin": null,
            "max_height": null,
            "max_width": null,
            "min_height": null,
            "min_width": null,
            "object_fit": null,
            "object_position": null,
            "order": null,
            "overflow": null,
            "overflow_x": null,
            "overflow_y": null,
            "padding": null,
            "right": null,
            "top": null,
            "visibility": null,
            "width": null
          }
        },
        "07cce581683c434a9535ebda076b525c": {
          "model_module": "@jupyter-widgets/base",
          "model_name": "LayoutModel",
          "model_module_version": "1.2.0",
          "state": {
            "_model_module": "@jupyter-widgets/base",
            "_model_module_version": "1.2.0",
            "_model_name": "LayoutModel",
            "_view_count": null,
            "_view_module": "@jupyter-widgets/base",
            "_view_module_version": "1.2.0",
            "_view_name": "LayoutView",
            "align_content": null,
            "align_items": null,
            "align_self": null,
            "border": null,
            "bottom": null,
            "display": null,
            "flex": null,
            "flex_flow": null,
            "grid_area": null,
            "grid_auto_columns": null,
            "grid_auto_flow": null,
            "grid_auto_rows": null,
            "grid_column": null,
            "grid_gap": null,
            "grid_row": null,
            "grid_template_areas": null,
            "grid_template_columns": null,
            "grid_template_rows": null,
            "height": null,
            "justify_content": null,
            "justify_items": null,
            "left": null,
            "margin": null,
            "max_height": null,
            "max_width": null,
            "min_height": null,
            "min_width": null,
            "object_fit": null,
            "object_position": null,
            "order": null,
            "overflow": null,
            "overflow_x": null,
            "overflow_y": null,
            "padding": null,
            "right": null,
            "top": null,
            "visibility": null,
            "width": null
          }
        },
        "bed49392edaa4d218396bbae359853c8": {
          "model_module": "@jupyter-widgets/controls",
          "model_name": "DescriptionStyleModel",
          "model_module_version": "1.5.0",
          "state": {
            "_model_module": "@jupyter-widgets/controls",
            "_model_module_version": "1.5.0",
            "_model_name": "DescriptionStyleModel",
            "_view_count": null,
            "_view_module": "@jupyter-widgets/base",
            "_view_module_version": "1.2.0",
            "_view_name": "StyleView",
            "description_width": ""
          }
        },
        "f4ffb5999ca34c6389a2e88cf9ae4506": {
          "model_module": "@jupyter-widgets/base",
          "model_name": "LayoutModel",
          "model_module_version": "1.2.0",
          "state": {
            "_model_module": "@jupyter-widgets/base",
            "_model_module_version": "1.2.0",
            "_model_name": "LayoutModel",
            "_view_count": null,
            "_view_module": "@jupyter-widgets/base",
            "_view_module_version": "1.2.0",
            "_view_name": "LayoutView",
            "align_content": null,
            "align_items": null,
            "align_self": null,
            "border": null,
            "bottom": null,
            "display": null,
            "flex": null,
            "flex_flow": null,
            "grid_area": null,
            "grid_auto_columns": null,
            "grid_auto_flow": null,
            "grid_auto_rows": null,
            "grid_column": null,
            "grid_gap": null,
            "grid_row": null,
            "grid_template_areas": null,
            "grid_template_columns": null,
            "grid_template_rows": null,
            "height": null,
            "justify_content": null,
            "justify_items": null,
            "left": null,
            "margin": null,
            "max_height": null,
            "max_width": null,
            "min_height": null,
            "min_width": null,
            "object_fit": null,
            "object_position": null,
            "order": null,
            "overflow": null,
            "overflow_x": null,
            "overflow_y": null,
            "padding": null,
            "right": null,
            "top": null,
            "visibility": null,
            "width": null
          }
        },
        "b4858dea776144ffb4372c289cbc00a1": {
          "model_module": "@jupyter-widgets/controls",
          "model_name": "ProgressStyleModel",
          "model_module_version": "1.5.0",
          "state": {
            "_model_module": "@jupyter-widgets/controls",
            "_model_module_version": "1.5.0",
            "_model_name": "ProgressStyleModel",
            "_view_count": null,
            "_view_module": "@jupyter-widgets/base",
            "_view_module_version": "1.2.0",
            "_view_name": "StyleView",
            "bar_color": null,
            "description_width": ""
          }
        },
        "519ce5b4bc4049ec930ad09e8bace71f": {
          "model_module": "@jupyter-widgets/base",
          "model_name": "LayoutModel",
          "model_module_version": "1.2.0",
          "state": {
            "_model_module": "@jupyter-widgets/base",
            "_model_module_version": "1.2.0",
            "_model_name": "LayoutModel",
            "_view_count": null,
            "_view_module": "@jupyter-widgets/base",
            "_view_module_version": "1.2.0",
            "_view_name": "LayoutView",
            "align_content": null,
            "align_items": null,
            "align_self": null,
            "border": null,
            "bottom": null,
            "display": null,
            "flex": null,
            "flex_flow": null,
            "grid_area": null,
            "grid_auto_columns": null,
            "grid_auto_flow": null,
            "grid_auto_rows": null,
            "grid_column": null,
            "grid_gap": null,
            "grid_row": null,
            "grid_template_areas": null,
            "grid_template_columns": null,
            "grid_template_rows": null,
            "height": null,
            "justify_content": null,
            "justify_items": null,
            "left": null,
            "margin": null,
            "max_height": null,
            "max_width": null,
            "min_height": null,
            "min_width": null,
            "object_fit": null,
            "object_position": null,
            "order": null,
            "overflow": null,
            "overflow_x": null,
            "overflow_y": null,
            "padding": null,
            "right": null,
            "top": null,
            "visibility": null,
            "width": null
          }
        },
        "bb723a5bfce0410d8d16e3d67ac4a02b": {
          "model_module": "@jupyter-widgets/controls",
          "model_name": "DescriptionStyleModel",
          "model_module_version": "1.5.0",
          "state": {
            "_model_module": "@jupyter-widgets/controls",
            "_model_module_version": "1.5.0",
            "_model_name": "DescriptionStyleModel",
            "_view_count": null,
            "_view_module": "@jupyter-widgets/base",
            "_view_module_version": "1.2.0",
            "_view_name": "StyleView",
            "description_width": ""
          }
        }
      }
    }
  },
  "nbformat": 4,
  "nbformat_minor": 0
}